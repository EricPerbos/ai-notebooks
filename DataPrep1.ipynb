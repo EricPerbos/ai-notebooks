{
 "cells": [
  {
   "cell_type": "markdown",
   "metadata": {},
   "source": [
    "# Data prep for all training data"
   ]
  },
  {
   "cell_type": "markdown",
   "metadata": {},
   "source": [
    "What follows is a notebook I used to try and recreate the features Jeremy Howard teaches [here](https://github.com/fastai/courses/blob/master/deeplearning2/rossman.ipynb) on the [Corporación Favorita Grocery Sales Forecasting](https://www.kaggle.com/c/favorita-grocery-sales-forecasting/discussion/47185) Kaggle contest.\n",
    "\n",
    "I would highly discourage you from trying to copy and run this code. Although I did my best to systematically document and test it at every step, I'm sure I've made occasional errors. \n",
    "\n",
    "I learned a ton going through it - hopefully you will as well."
   ]
  },
  {
   "cell_type": "code",
   "execution_count": 18,
   "metadata": {},
   "outputs": [
    {
     "name": "stdout",
     "output_type": "stream",
     "text": [
      "env: CUDA_DEVICE_ORDER=PCI_BUS_ID\n",
      "env: CUDA_VISIBLE_DEVICES=3\n",
      "kevin loaded\n"
     ]
    }
   ],
   "source": [
    "gpu=3\n",
    "%env CUDA_DEVICE_ORDER=PCI_BUS_ID\n",
    "%env CUDA_VISIBLE_DEVICES=$gpu\n",
    "# libraries and utilities\n",
    "%matplotlib inline\n",
    "import importlib\n",
    "import kevin; importlib.reload(kevin)\n",
    "from kevin import *\n",
    "import gfunc; importlib.reload(gfunc)\n",
    "from gfunc import *\n",
    "from tqdm import tqdm"
   ]
  },
  {
   "cell_type": "markdown",
   "metadata": {},
   "source": [
    "### memory saving notes - \n",
    "1. switch objects to categories earlier.\n",
    "2. save and delete older train objects when joined is created.\n",
    "3. clean up rolling promo function"
   ]
  },
  {
   "cell_type": "markdown",
   "metadata": {},
   "source": [
    "## paths"
   ]
  },
  {
   "cell_type": "code",
   "execution_count": 3,
   "metadata": {
    "collapsed": true
   },
   "outputs": [],
   "source": [
    "#Store in new place since all data\n",
    "slowdata = data_path + 'slowdisk/'\n",
    "slowdata = slowdata + 'alldata/'\n",
    "results_path = results_path+'alldata/'\n",
    "\n",
    "def save_df(df, name):\n",
    "    if df.to_pickle(slowdata+name):\n",
    "        return True\n",
    "def load_df(name):\n",
    "    return pd.read_pickle(slowdata+name)\n",
    "def save_n_load_df(df, name):\n",
    "    if save_df(df, name): load_df(name)\n",
    "    return True\n",
    "#leaves duplicate field names on left and appends with _y on right\n",
    "def join_df(left, right, left_on, right_on=None):\n",
    "    if right_on is None: right_on=left_on\n",
    "    return left.merge(right, how='left', left_on=left_on, right_on=right_on, suffixes=(\"\", \"_y\"))\n",
    "def add_datepart(df):\n",
    "#     df.date = pd.to_datetime(df.date)\n",
    "    df[\"year\"] = df.date.dt.year.astype(np.int32)\n",
    "    df[\"month\"] = df.date.dt.month.astype(np.int8)\n",
    "    df[\"week\"] = df.date.dt.week.astype(np.int8)\n",
    "    df[\"day\"] = df.date.dt.day.astype(np.int8)\n",
    "    df[\"dayofweek\"] = df.date.dt.dayofweek.astype(np.int8)\n",
    "def fillna_with_zeros(df, column):\n",
    "    df[column].fillna(0, inplace=True)\n",
    "    df[column]=df[column].astype(np.int8)"
   ]
  },
  {
   "cell_type": "code",
   "execution_count": 13,
   "metadata": {},
   "outputs": [
    {
     "data": {
      "text/plain": [
       "'/home/kevin/nbs/kaggle/GrocerySales/results/alldata/'"
      ]
     },
     "execution_count": 13,
     "metadata": {},
     "output_type": "execute_result"
    }
   ],
   "source": [
    "results_path"
   ]
  },
  {
   "cell_type": "markdown",
   "metadata": {},
   "source": [
    "## Work plan\n",
    "### Data prep\n",
    "1. Load data, 20% of training. chunksize = 25_000_000\n",
    "2. Merge test/train datasets\n",
    "1. Remove null data\n",
    "3. Add columns for item, store, oil price, holiday\n",
    "1. Convert dates to year mon day weekday\n",
    "4. Convert labels to numbers. Change datatypes?\n",
    "### Set benchmark\n",
    "1. Create mean."
   ]
  },
  {
   "cell_type": "markdown",
   "metadata": {},
   "source": [
    "## Load data"
   ]
  },
  {
   "cell_type": "code",
   "execution_count": 10,
   "metadata": {
    "collapsed": true
   },
   "outputs": [],
   "source": [
    "#From:\n",
    "# https://www.kaggle.com/ekami66/python-eda-with-few-interactive-graphs\n",
    "# https://www.kaggle.com/jagangupta/memory-optimization-and-eda-on-entire-dataset/notebook\n",
    "# https://www.kaggle.com/juanumusic/tidy-notebook-and-deep-analysis\n",
    "dtypes = {'id': np.uint32,\n",
    "          'store_nbr': np.uint8, \n",
    "          'item_nbr': np.uint32, \n",
    "          'unit_sales': np.float32,\n",
    "          'class': np.uint16,\n",
    "          'perishable': np.bool,\n",
    "          'dcoilwtico':np.float16,\n",
    "          'onpromotion': np.bool,\n",
    "          'transactions':np.uint16,\n",
    "          'cluster': np.uint32}\n",
    "chunksize = 5_000_000 #5% of training set\n",
    "#mid sample for data prep & checking\n",
    "mid = int(chunksize/2); sample = slice(mid, mid+5)"
   ]
  },
  {
   "cell_type": "code",
   "execution_count": 11,
   "metadata": {},
   "outputs": [
    {
     "name": "stderr",
     "output_type": "stream",
     "text": [
      "/home/kevin/anaconda2/envs/ai/lib/python3.6/site-packages/IPython/core/interactiveshell.py:2718: DtypeWarning: Columns (5) have mixed types. Specify dtype option on import or set low_memory=False.\n",
      "  interactivity=interactivity, compiler=compiler, result=result)\n",
      "/home/kevin/anaconda2/envs/ai/lib/python3.6/site-packages/numpy/lib/arraysetops.py:463: FutureWarning: elementwise comparison failed; returning scalar instead, but in the future will perform elementwise comparison\n",
      "  mask |= (ar1 == a)\n"
     ]
    }
   ],
   "source": [
    "#train_df\n",
    "train_df = pd.read_csv(slowdata + 'train.csv', index_col='id', parse_dates=['date'], dtype=dtypes)\n",
    "# all_train_df = pd.read_csv(slowdata + 'train.csv', index_col='id', parse_dates=['date'], dtype=dtypes)\n",
    "# train_df=all_train_df[-chunksize:]\n",
    "save_n_load_df(train_df, \"training_dev.pkl\")\n",
    "train_df.name = \"TRAINING\""
   ]
  },
  {
   "cell_type": "code",
   "execution_count": 12,
   "metadata": {},
   "outputs": [
    {
     "name": "stderr",
     "output_type": "stream",
     "text": [
      "/home/kevin/anaconda2/envs/ai/lib/python3.6/site-packages/numpy/lib/arraysetops.py:463: FutureWarning: elementwise comparison failed; returning scalar instead, but in the future will perform elementwise comparison\n",
      "  mask |= (ar1 == a)\n"
     ]
    }
   ],
   "source": [
    "transactions_df = pd.read_csv(slowdata + 'transactions.csv', parse_dates=['date'], dtype=dtypes)\n",
    "transactions_df.name = \"TRANSACTIONS\"\n",
    "sample_sub_df = pd.read_csv(slowdata+'sample_submission.csv')\n",
    "sample_sub_df.name = \"SAMPLE\"\n",
    "test_df = pd.read_csv(slowdata+'test.csv', dtype=dtypes, index_col='id', parse_dates=['date'])\n",
    "test_df.name = \"TEST\"\n",
    "oil_df = pd.read_csv(slowdata + 'oil.csv', parse_dates=['date'], dtype=dtypes)\n",
    "oil_df.name = \"OIL\"\n",
    "holidays_df = pd.read_csv(slowdata + 'holidays_events.csv', parse_dates=['date'], dtype=dtypes)\n",
    "holidays_df.name = \"HOLIDAYS\"\n",
    "stores_df = pd.read_csv(slowdata + 'stores.csv', dtype=dtypes)\n",
    "stores_df.name = \"STORES\"\n",
    "items_df = pd.read_csv(slowdata + 'items.csv',dtype=dtypes)\n",
    "items_df.name = \"ITEMS\""
   ]
  },
  {
   "cell_type": "code",
   "execution_count": 375,
   "metadata": {
    "collapsed": true
   },
   "outputs": [],
   "source": [
    "# oil_df = pd.read_csv(slowdata + 'oil.csv', parse_dates=['date'], dtype=dtypes)\n",
    "# oil_df.name = \"OIL\"\n",
    "# stores_df = pd.read_csv(slowdata + 'stores.csv', dtype=dtypes)\n",
    "# stores_df.name = \"STORES\"\n",
    "# items_df = pd.read_csv(slowdata + 'items.csv',dtype=dtypes)\n",
    "# items_df.name = \"ITEMS\"\n",
    "# transactions_df = pd.read_csv(slowdata + 'transactions.csv', parse_dates=['date'], dtype=dtypes)\n",
    "# transactions_df.name = \"TRANSACTIONS\"\n",
    "# holidays_df = pd.read_csv(slowdata + 'holidays_events.csv', parse_dates=['date'], dtype=dtypes)\n",
    "# holidays_df.name = \"HOLIDAYS\""
   ]
  },
  {
   "cell_type": "markdown",
   "metadata": {},
   "source": [
    "## View data"
   ]
  },
  {
   "cell_type": "code",
   "execution_count": 54,
   "metadata": {
    "collapsed": true
   },
   "outputs": [],
   "source": [
    "tables = [train_df, transactions_df, sample_sub_df, test_df, oil_df, holidays_df, stores_df, items_df]"
   ]
  },
  {
   "cell_type": "code",
   "execution_count": 55,
   "metadata": {},
   "outputs": [
    {
     "data": {
      "text/plain": [
       "'TRAINING'"
      ]
     },
     "metadata": {},
     "output_type": "display_data"
    },
    {
     "data": {
      "text/html": [
       "<div>\n",
       "<style>\n",
       "    .dataframe thead tr:only-child th {\n",
       "        text-align: right;\n",
       "    }\n",
       "\n",
       "    .dataframe thead th {\n",
       "        text-align: left;\n",
       "    }\n",
       "\n",
       "    .dataframe tbody tr th {\n",
       "        vertical-align: top;\n",
       "    }\n",
       "</style>\n",
       "<table border=\"1\" class=\"dataframe\">\n",
       "  <thead>\n",
       "    <tr style=\"text-align: right;\">\n",
       "      <th></th>\n",
       "      <th>date</th>\n",
       "      <th>store_nbr</th>\n",
       "      <th>item_nbr</th>\n",
       "      <th>unit_sales</th>\n",
       "      <th>onpromotion</th>\n",
       "    </tr>\n",
       "    <tr>\n",
       "      <th>id</th>\n",
       "      <th></th>\n",
       "      <th></th>\n",
       "      <th></th>\n",
       "      <th></th>\n",
       "      <th></th>\n",
       "    </tr>\n",
       "  </thead>\n",
       "  <tbody>\n",
       "    <tr>\n",
       "      <th>120497040</th>\n",
       "      <td>2017-06-29</td>\n",
       "      <td>35</td>\n",
       "      <td>1162935</td>\n",
       "      <td>5.0</td>\n",
       "      <td>False</td>\n",
       "    </tr>\n",
       "    <tr>\n",
       "      <th>120497041</th>\n",
       "      <td>2017-06-29</td>\n",
       "      <td>35</td>\n",
       "      <td>1164290</td>\n",
       "      <td>1.0</td>\n",
       "      <td>False</td>\n",
       "    </tr>\n",
       "    <tr>\n",
       "      <th>120497042</th>\n",
       "      <td>2017-06-29</td>\n",
       "      <td>35</td>\n",
       "      <td>1165988</td>\n",
       "      <td>2.0</td>\n",
       "      <td>False</td>\n",
       "    </tr>\n",
       "    <tr>\n",
       "      <th>120497043</th>\n",
       "      <td>2017-06-29</td>\n",
       "      <td>35</td>\n",
       "      <td>1166474</td>\n",
       "      <td>50.0</td>\n",
       "      <td>False</td>\n",
       "    </tr>\n",
       "    <tr>\n",
       "      <th>120497044</th>\n",
       "      <td>2017-06-29</td>\n",
       "      <td>35</td>\n",
       "      <td>1166475</td>\n",
       "      <td>11.0</td>\n",
       "      <td>False</td>\n",
       "    </tr>\n",
       "  </tbody>\n",
       "</table>\n",
       "</div>"
      ],
      "text/plain": [
       "                date  store_nbr  item_nbr  unit_sales onpromotion\n",
       "id                                                               \n",
       "120497040 2017-06-29         35   1162935         5.0       False\n",
       "120497041 2017-06-29         35   1164290         1.0       False\n",
       "120497042 2017-06-29         35   1165988         2.0       False\n",
       "120497043 2017-06-29         35   1166474        50.0       False\n",
       "120497044 2017-06-29         35   1166475        11.0       False"
      ]
     },
     "metadata": {},
     "output_type": "display_data"
    },
    {
     "data": {
      "text/html": [
       "<div>\n",
       "<style>\n",
       "    .dataframe thead tr:only-child th {\n",
       "        text-align: right;\n",
       "    }\n",
       "\n",
       "    .dataframe thead th {\n",
       "        text-align: left;\n",
       "    }\n",
       "\n",
       "    .dataframe tbody tr th {\n",
       "        vertical-align: top;\n",
       "    }\n",
       "</style>\n",
       "<table border=\"1\" class=\"dataframe\">\n",
       "  <thead>\n",
       "    <tr style=\"text-align: right;\">\n",
       "      <th></th>\n",
       "      <th>date</th>\n",
       "      <th>store_nbr</th>\n",
       "      <th>item_nbr</th>\n",
       "      <th>unit_sales</th>\n",
       "      <th>onpromotion</th>\n",
       "    </tr>\n",
       "  </thead>\n",
       "  <tbody>\n",
       "    <tr>\n",
       "      <th>count</th>\n",
       "      <td>NaN</td>\n",
       "      <td>5e+06</td>\n",
       "      <td>5e+06</td>\n",
       "      <td>5e+06</td>\n",
       "      <td>NaN</td>\n",
       "    </tr>\n",
       "    <tr>\n",
       "      <th>mean</th>\n",
       "      <td>NaN</td>\n",
       "      <td>28.4204</td>\n",
       "      <td>1.17055e+06</td>\n",
       "      <td>8.10904</td>\n",
       "      <td>NaN</td>\n",
       "    </tr>\n",
       "    <tr>\n",
       "      <th>std</th>\n",
       "      <td>NaN</td>\n",
       "      <td>16.3229</td>\n",
       "      <td>586921</td>\n",
       "      <td>23.7943</td>\n",
       "      <td>NaN</td>\n",
       "    </tr>\n",
       "    <tr>\n",
       "      <th>min</th>\n",
       "      <td>NaN</td>\n",
       "      <td>1</td>\n",
       "      <td>96995</td>\n",
       "      <td>-274</td>\n",
       "      <td>NaN</td>\n",
       "    </tr>\n",
       "    <tr>\n",
       "      <th>25%</th>\n",
       "      <td>NaN</td>\n",
       "      <td>14</td>\n",
       "      <td>692105</td>\n",
       "      <td>2</td>\n",
       "      <td>NaN</td>\n",
       "    </tr>\n",
       "    <tr>\n",
       "      <th>50%</th>\n",
       "      <td>NaN</td>\n",
       "      <td>29</td>\n",
       "      <td>1.20972e+06</td>\n",
       "      <td>4</td>\n",
       "      <td>NaN</td>\n",
       "    </tr>\n",
       "    <tr>\n",
       "      <th>75%</th>\n",
       "      <td>NaN</td>\n",
       "      <td>44</td>\n",
       "      <td>1.57633e+06</td>\n",
       "      <td>8</td>\n",
       "      <td>NaN</td>\n",
       "    </tr>\n",
       "    <tr>\n",
       "      <th>max</th>\n",
       "      <td>NaN</td>\n",
       "      <td>54</td>\n",
       "      <td>2.12711e+06</td>\n",
       "      <td>7348</td>\n",
       "      <td>NaN</td>\n",
       "    </tr>\n",
       "    <tr>\n",
       "      <th>counts</th>\n",
       "      <td>5000000</td>\n",
       "      <td>5000000</td>\n",
       "      <td>5000000</td>\n",
       "      <td>5000000</td>\n",
       "      <td>5000000</td>\n",
       "    </tr>\n",
       "    <tr>\n",
       "      <th>uniques</th>\n",
       "      <td>48</td>\n",
       "      <td>54</td>\n",
       "      <td>3891</td>\n",
       "      <td>61385</td>\n",
       "      <td>2</td>\n",
       "    </tr>\n",
       "    <tr>\n",
       "      <th>missing</th>\n",
       "      <td>0</td>\n",
       "      <td>0</td>\n",
       "      <td>0</td>\n",
       "      <td>0</td>\n",
       "      <td>0</td>\n",
       "    </tr>\n",
       "    <tr>\n",
       "      <th>missing_perc</th>\n",
       "      <td>0%</td>\n",
       "      <td>0%</td>\n",
       "      <td>0%</td>\n",
       "      <td>0%</td>\n",
       "      <td>0%</td>\n",
       "    </tr>\n",
       "    <tr>\n",
       "      <th>types</th>\n",
       "      <td>date</td>\n",
       "      <td>numeric</td>\n",
       "      <td>numeric</td>\n",
       "      <td>numeric</td>\n",
       "      <td>bool</td>\n",
       "    </tr>\n",
       "  </tbody>\n",
       "</table>\n",
       "</div>"
      ],
      "text/plain": [
       "                 date store_nbr     item_nbr unit_sales onpromotion\n",
       "count             NaN     5e+06        5e+06      5e+06         NaN\n",
       "mean              NaN   28.4204  1.17055e+06    8.10904         NaN\n",
       "std               NaN   16.3229       586921    23.7943         NaN\n",
       "min               NaN         1        96995       -274         NaN\n",
       "25%               NaN        14       692105          2         NaN\n",
       "50%               NaN        29  1.20972e+06          4         NaN\n",
       "75%               NaN        44  1.57633e+06          8         NaN\n",
       "max               NaN        54  2.12711e+06       7348         NaN\n",
       "counts        5000000   5000000      5000000    5000000     5000000\n",
       "uniques            48        54         3891      61385           2\n",
       "missing             0         0            0          0           0\n",
       "missing_perc       0%        0%           0%         0%          0%\n",
       "types            date   numeric      numeric    numeric        bool"
      ]
     },
     "metadata": {},
     "output_type": "display_data"
    },
    {
     "data": {
      "text/plain": [
       "'TRANSACTIONS'"
      ]
     },
     "metadata": {},
     "output_type": "display_data"
    },
    {
     "data": {
      "text/html": [
       "<div>\n",
       "<style>\n",
       "    .dataframe thead tr:only-child th {\n",
       "        text-align: right;\n",
       "    }\n",
       "\n",
       "    .dataframe thead th {\n",
       "        text-align: left;\n",
       "    }\n",
       "\n",
       "    .dataframe tbody tr th {\n",
       "        vertical-align: top;\n",
       "    }\n",
       "</style>\n",
       "<table border=\"1\" class=\"dataframe\">\n",
       "  <thead>\n",
       "    <tr style=\"text-align: right;\">\n",
       "      <th></th>\n",
       "      <th>date</th>\n",
       "      <th>store_nbr</th>\n",
       "      <th>transactions</th>\n",
       "    </tr>\n",
       "  </thead>\n",
       "  <tbody>\n",
       "    <tr>\n",
       "      <th>0</th>\n",
       "      <td>2013-01-01</td>\n",
       "      <td>25</td>\n",
       "      <td>770</td>\n",
       "    </tr>\n",
       "    <tr>\n",
       "      <th>1</th>\n",
       "      <td>2013-01-02</td>\n",
       "      <td>1</td>\n",
       "      <td>2111</td>\n",
       "    </tr>\n",
       "    <tr>\n",
       "      <th>2</th>\n",
       "      <td>2013-01-02</td>\n",
       "      <td>2</td>\n",
       "      <td>2358</td>\n",
       "    </tr>\n",
       "    <tr>\n",
       "      <th>3</th>\n",
       "      <td>2013-01-02</td>\n",
       "      <td>3</td>\n",
       "      <td>3487</td>\n",
       "    </tr>\n",
       "    <tr>\n",
       "      <th>4</th>\n",
       "      <td>2013-01-02</td>\n",
       "      <td>4</td>\n",
       "      <td>1922</td>\n",
       "    </tr>\n",
       "  </tbody>\n",
       "</table>\n",
       "</div>"
      ],
      "text/plain": [
       "         date  store_nbr  transactions\n",
       "0  2013-01-01         25           770\n",
       "1  2013-01-02          1          2111\n",
       "2  2013-01-02          2          2358\n",
       "3  2013-01-02          3          3487\n",
       "4  2013-01-02          4          1922"
      ]
     },
     "metadata": {},
     "output_type": "display_data"
    },
    {
     "data": {
      "text/html": [
       "<div>\n",
       "<style>\n",
       "    .dataframe thead tr:only-child th {\n",
       "        text-align: right;\n",
       "    }\n",
       "\n",
       "    .dataframe thead th {\n",
       "        text-align: left;\n",
       "    }\n",
       "\n",
       "    .dataframe tbody tr th {\n",
       "        vertical-align: top;\n",
       "    }\n",
       "</style>\n",
       "<table border=\"1\" class=\"dataframe\">\n",
       "  <thead>\n",
       "    <tr style=\"text-align: right;\">\n",
       "      <th></th>\n",
       "      <th>date</th>\n",
       "      <th>store_nbr</th>\n",
       "      <th>transactions</th>\n",
       "    </tr>\n",
       "  </thead>\n",
       "  <tbody>\n",
       "    <tr>\n",
       "      <th>count</th>\n",
       "      <td>NaN</td>\n",
       "      <td>83488</td>\n",
       "      <td>83488</td>\n",
       "    </tr>\n",
       "    <tr>\n",
       "      <th>mean</th>\n",
       "      <td>NaN</td>\n",
       "      <td>26.9392</td>\n",
       "      <td>1694.6</td>\n",
       "    </tr>\n",
       "    <tr>\n",
       "      <th>std</th>\n",
       "      <td>NaN</td>\n",
       "      <td>15.6082</td>\n",
       "      <td>963.287</td>\n",
       "    </tr>\n",
       "    <tr>\n",
       "      <th>min</th>\n",
       "      <td>NaN</td>\n",
       "      <td>1</td>\n",
       "      <td>5</td>\n",
       "    </tr>\n",
       "    <tr>\n",
       "      <th>25%</th>\n",
       "      <td>NaN</td>\n",
       "      <td>13</td>\n",
       "      <td>1046</td>\n",
       "    </tr>\n",
       "    <tr>\n",
       "      <th>50%</th>\n",
       "      <td>NaN</td>\n",
       "      <td>27</td>\n",
       "      <td>1393</td>\n",
       "    </tr>\n",
       "    <tr>\n",
       "      <th>75%</th>\n",
       "      <td>NaN</td>\n",
       "      <td>40</td>\n",
       "      <td>2079</td>\n",
       "    </tr>\n",
       "    <tr>\n",
       "      <th>max</th>\n",
       "      <td>NaN</td>\n",
       "      <td>54</td>\n",
       "      <td>8359</td>\n",
       "    </tr>\n",
       "    <tr>\n",
       "      <th>counts</th>\n",
       "      <td>83488</td>\n",
       "      <td>83488</td>\n",
       "      <td>83488</td>\n",
       "    </tr>\n",
       "    <tr>\n",
       "      <th>uniques</th>\n",
       "      <td>1682</td>\n",
       "      <td>54</td>\n",
       "      <td>4993</td>\n",
       "    </tr>\n",
       "    <tr>\n",
       "      <th>missing</th>\n",
       "      <td>0</td>\n",
       "      <td>0</td>\n",
       "      <td>0</td>\n",
       "    </tr>\n",
       "    <tr>\n",
       "      <th>missing_perc</th>\n",
       "      <td>0%</td>\n",
       "      <td>0%</td>\n",
       "      <td>0%</td>\n",
       "    </tr>\n",
       "    <tr>\n",
       "      <th>types</th>\n",
       "      <td>categorical</td>\n",
       "      <td>numeric</td>\n",
       "      <td>numeric</td>\n",
       "    </tr>\n",
       "  </tbody>\n",
       "</table>\n",
       "</div>"
      ],
      "text/plain": [
       "                     date store_nbr transactions\n",
       "count                 NaN     83488        83488\n",
       "mean                  NaN   26.9392       1694.6\n",
       "std                   NaN   15.6082      963.287\n",
       "min                   NaN         1            5\n",
       "25%                   NaN        13         1046\n",
       "50%                   NaN        27         1393\n",
       "75%                   NaN        40         2079\n",
       "max                   NaN        54         8359\n",
       "counts              83488     83488        83488\n",
       "uniques              1682        54         4993\n",
       "missing                 0         0            0\n",
       "missing_perc           0%        0%           0%\n",
       "types         categorical   numeric      numeric"
      ]
     },
     "metadata": {},
     "output_type": "display_data"
    },
    {
     "data": {
      "text/plain": [
       "'SAMPLE'"
      ]
     },
     "metadata": {},
     "output_type": "display_data"
    },
    {
     "data": {
      "text/html": [
       "<div>\n",
       "<style>\n",
       "    .dataframe thead tr:only-child th {\n",
       "        text-align: right;\n",
       "    }\n",
       "\n",
       "    .dataframe thead th {\n",
       "        text-align: left;\n",
       "    }\n",
       "\n",
       "    .dataframe tbody tr th {\n",
       "        vertical-align: top;\n",
       "    }\n",
       "</style>\n",
       "<table border=\"1\" class=\"dataframe\">\n",
       "  <thead>\n",
       "    <tr style=\"text-align: right;\">\n",
       "      <th></th>\n",
       "      <th>id</th>\n",
       "      <th>unit_sales</th>\n",
       "    </tr>\n",
       "  </thead>\n",
       "  <tbody>\n",
       "    <tr>\n",
       "      <th>0</th>\n",
       "      <td>125497040</td>\n",
       "      <td>0</td>\n",
       "    </tr>\n",
       "    <tr>\n",
       "      <th>1</th>\n",
       "      <td>125497041</td>\n",
       "      <td>0</td>\n",
       "    </tr>\n",
       "    <tr>\n",
       "      <th>2</th>\n",
       "      <td>125497042</td>\n",
       "      <td>0</td>\n",
       "    </tr>\n",
       "    <tr>\n",
       "      <th>3</th>\n",
       "      <td>125497043</td>\n",
       "      <td>0</td>\n",
       "    </tr>\n",
       "    <tr>\n",
       "      <th>4</th>\n",
       "      <td>125497044</td>\n",
       "      <td>0</td>\n",
       "    </tr>\n",
       "  </tbody>\n",
       "</table>\n",
       "</div>"
      ],
      "text/plain": [
       "          id  unit_sales\n",
       "0  125497040           0\n",
       "1  125497041           0\n",
       "2  125497042           0\n",
       "3  125497043           0\n",
       "4  125497044           0"
      ]
     },
     "metadata": {},
     "output_type": "display_data"
    },
    {
     "data": {
      "text/html": [
       "<div>\n",
       "<style>\n",
       "    .dataframe thead tr:only-child th {\n",
       "        text-align: right;\n",
       "    }\n",
       "\n",
       "    .dataframe thead th {\n",
       "        text-align: left;\n",
       "    }\n",
       "\n",
       "    .dataframe tbody tr th {\n",
       "        vertical-align: top;\n",
       "    }\n",
       "</style>\n",
       "<table border=\"1\" class=\"dataframe\">\n",
       "  <thead>\n",
       "    <tr style=\"text-align: right;\">\n",
       "      <th></th>\n",
       "      <th>id</th>\n",
       "      <th>unit_sales</th>\n",
       "    </tr>\n",
       "  </thead>\n",
       "  <tbody>\n",
       "    <tr>\n",
       "      <th>count</th>\n",
       "      <td>3.37046e+06</td>\n",
       "      <td>3.37046e+06</td>\n",
       "    </tr>\n",
       "    <tr>\n",
       "      <th>mean</th>\n",
       "      <td>1.27182e+08</td>\n",
       "      <td>0</td>\n",
       "    </tr>\n",
       "    <tr>\n",
       "      <th>std</th>\n",
       "      <td>972969</td>\n",
       "      <td>0</td>\n",
       "    </tr>\n",
       "    <tr>\n",
       "      <th>min</th>\n",
       "      <td>1.25497e+08</td>\n",
       "      <td>0</td>\n",
       "    </tr>\n",
       "    <tr>\n",
       "      <th>25%</th>\n",
       "      <td>1.2634e+08</td>\n",
       "      <td>0</td>\n",
       "    </tr>\n",
       "    <tr>\n",
       "      <th>50%</th>\n",
       "      <td>1.27182e+08</td>\n",
       "      <td>0</td>\n",
       "    </tr>\n",
       "    <tr>\n",
       "      <th>75%</th>\n",
       "      <td>1.28025e+08</td>\n",
       "      <td>0</td>\n",
       "    </tr>\n",
       "    <tr>\n",
       "      <th>max</th>\n",
       "      <td>1.28868e+08</td>\n",
       "      <td>0</td>\n",
       "    </tr>\n",
       "    <tr>\n",
       "      <th>counts</th>\n",
       "      <td>3370464</td>\n",
       "      <td>3370464</td>\n",
       "    </tr>\n",
       "    <tr>\n",
       "      <th>uniques</th>\n",
       "      <td>3370464</td>\n",
       "      <td>1</td>\n",
       "    </tr>\n",
       "    <tr>\n",
       "      <th>missing</th>\n",
       "      <td>0</td>\n",
       "      <td>0</td>\n",
       "    </tr>\n",
       "    <tr>\n",
       "      <th>missing_perc</th>\n",
       "      <td>0%</td>\n",
       "      <td>0%</td>\n",
       "    </tr>\n",
       "    <tr>\n",
       "      <th>types</th>\n",
       "      <td>numeric</td>\n",
       "      <td>constant</td>\n",
       "    </tr>\n",
       "  </tbody>\n",
       "</table>\n",
       "</div>"
      ],
      "text/plain": [
       "                       id   unit_sales\n",
       "count         3.37046e+06  3.37046e+06\n",
       "mean          1.27182e+08            0\n",
       "std                972969            0\n",
       "min           1.25497e+08            0\n",
       "25%            1.2634e+08            0\n",
       "50%           1.27182e+08            0\n",
       "75%           1.28025e+08            0\n",
       "max           1.28868e+08            0\n",
       "counts            3370464      3370464\n",
       "uniques           3370464            1\n",
       "missing                 0            0\n",
       "missing_perc           0%           0%\n",
       "types             numeric     constant"
      ]
     },
     "metadata": {},
     "output_type": "display_data"
    },
    {
     "data": {
      "text/plain": [
       "'TEST'"
      ]
     },
     "metadata": {},
     "output_type": "display_data"
    },
    {
     "data": {
      "text/html": [
       "<div>\n",
       "<style>\n",
       "    .dataframe thead tr:only-child th {\n",
       "        text-align: right;\n",
       "    }\n",
       "\n",
       "    .dataframe thead th {\n",
       "        text-align: left;\n",
       "    }\n",
       "\n",
       "    .dataframe tbody tr th {\n",
       "        vertical-align: top;\n",
       "    }\n",
       "</style>\n",
       "<table border=\"1\" class=\"dataframe\">\n",
       "  <thead>\n",
       "    <tr style=\"text-align: right;\">\n",
       "      <th></th>\n",
       "      <th>date</th>\n",
       "      <th>store_nbr</th>\n",
       "      <th>item_nbr</th>\n",
       "      <th>onpromotion</th>\n",
       "    </tr>\n",
       "    <tr>\n",
       "      <th>id</th>\n",
       "      <th></th>\n",
       "      <th></th>\n",
       "      <th></th>\n",
       "      <th></th>\n",
       "    </tr>\n",
       "  </thead>\n",
       "  <tbody>\n",
       "    <tr>\n",
       "      <th>125497040</th>\n",
       "      <td>2017-08-16</td>\n",
       "      <td>1</td>\n",
       "      <td>96995</td>\n",
       "      <td>False</td>\n",
       "    </tr>\n",
       "    <tr>\n",
       "      <th>125497041</th>\n",
       "      <td>2017-08-16</td>\n",
       "      <td>1</td>\n",
       "      <td>99197</td>\n",
       "      <td>False</td>\n",
       "    </tr>\n",
       "    <tr>\n",
       "      <th>125497042</th>\n",
       "      <td>2017-08-16</td>\n",
       "      <td>1</td>\n",
       "      <td>103501</td>\n",
       "      <td>False</td>\n",
       "    </tr>\n",
       "    <tr>\n",
       "      <th>125497043</th>\n",
       "      <td>2017-08-16</td>\n",
       "      <td>1</td>\n",
       "      <td>103520</td>\n",
       "      <td>False</td>\n",
       "    </tr>\n",
       "    <tr>\n",
       "      <th>125497044</th>\n",
       "      <td>2017-08-16</td>\n",
       "      <td>1</td>\n",
       "      <td>103665</td>\n",
       "      <td>False</td>\n",
       "    </tr>\n",
       "  </tbody>\n",
       "</table>\n",
       "</div>"
      ],
      "text/plain": [
       "                date  store_nbr  item_nbr  onpromotion\n",
       "id                                                    \n",
       "125497040 2017-08-16          1     96995        False\n",
       "125497041 2017-08-16          1     99197        False\n",
       "125497042 2017-08-16          1    103501        False\n",
       "125497043 2017-08-16          1    103520        False\n",
       "125497044 2017-08-16          1    103665        False"
      ]
     },
     "metadata": {},
     "output_type": "display_data"
    },
    {
     "data": {
      "text/html": [
       "<div>\n",
       "<style>\n",
       "    .dataframe thead tr:only-child th {\n",
       "        text-align: right;\n",
       "    }\n",
       "\n",
       "    .dataframe thead th {\n",
       "        text-align: left;\n",
       "    }\n",
       "\n",
       "    .dataframe tbody tr th {\n",
       "        vertical-align: top;\n",
       "    }\n",
       "</style>\n",
       "<table border=\"1\" class=\"dataframe\">\n",
       "  <thead>\n",
       "    <tr style=\"text-align: right;\">\n",
       "      <th></th>\n",
       "      <th>date</th>\n",
       "      <th>store_nbr</th>\n",
       "      <th>item_nbr</th>\n",
       "      <th>onpromotion</th>\n",
       "    </tr>\n",
       "  </thead>\n",
       "  <tbody>\n",
       "    <tr>\n",
       "      <th>count</th>\n",
       "      <td>NaN</td>\n",
       "      <td>3.37046e+06</td>\n",
       "      <td>3.37046e+06</td>\n",
       "      <td>NaN</td>\n",
       "    </tr>\n",
       "    <tr>\n",
       "      <th>mean</th>\n",
       "      <td>NaN</td>\n",
       "      <td>27.5</td>\n",
       "      <td>1.2448e+06</td>\n",
       "      <td>NaN</td>\n",
       "    </tr>\n",
       "    <tr>\n",
       "      <th>std</th>\n",
       "      <td>NaN</td>\n",
       "      <td>15.5858</td>\n",
       "      <td>589836</td>\n",
       "      <td>NaN</td>\n",
       "    </tr>\n",
       "    <tr>\n",
       "      <th>min</th>\n",
       "      <td>NaN</td>\n",
       "      <td>1</td>\n",
       "      <td>96995</td>\n",
       "      <td>NaN</td>\n",
       "    </tr>\n",
       "    <tr>\n",
       "      <th>25%</th>\n",
       "      <td>NaN</td>\n",
       "      <td>14</td>\n",
       "      <td>805321</td>\n",
       "      <td>NaN</td>\n",
       "    </tr>\n",
       "    <tr>\n",
       "      <th>50%</th>\n",
       "      <td>NaN</td>\n",
       "      <td>27.5</td>\n",
       "      <td>1.29466e+06</td>\n",
       "      <td>NaN</td>\n",
       "    </tr>\n",
       "    <tr>\n",
       "      <th>75%</th>\n",
       "      <td>NaN</td>\n",
       "      <td>41</td>\n",
       "      <td>1.73002e+06</td>\n",
       "      <td>NaN</td>\n",
       "    </tr>\n",
       "    <tr>\n",
       "      <th>max</th>\n",
       "      <td>NaN</td>\n",
       "      <td>54</td>\n",
       "      <td>2.13424e+06</td>\n",
       "      <td>NaN</td>\n",
       "    </tr>\n",
       "    <tr>\n",
       "      <th>counts</th>\n",
       "      <td>3370464</td>\n",
       "      <td>3370464</td>\n",
       "      <td>3370464</td>\n",
       "      <td>3370464</td>\n",
       "    </tr>\n",
       "    <tr>\n",
       "      <th>uniques</th>\n",
       "      <td>16</td>\n",
       "      <td>54</td>\n",
       "      <td>3901</td>\n",
       "      <td>2</td>\n",
       "    </tr>\n",
       "    <tr>\n",
       "      <th>missing</th>\n",
       "      <td>0</td>\n",
       "      <td>0</td>\n",
       "      <td>0</td>\n",
       "      <td>0</td>\n",
       "    </tr>\n",
       "    <tr>\n",
       "      <th>missing_perc</th>\n",
       "      <td>0%</td>\n",
       "      <td>0%</td>\n",
       "      <td>0%</td>\n",
       "      <td>0%</td>\n",
       "    </tr>\n",
       "    <tr>\n",
       "      <th>types</th>\n",
       "      <td>date</td>\n",
       "      <td>numeric</td>\n",
       "      <td>numeric</td>\n",
       "      <td>bool</td>\n",
       "    </tr>\n",
       "  </tbody>\n",
       "</table>\n",
       "</div>"
      ],
      "text/plain": [
       "                 date    store_nbr     item_nbr onpromotion\n",
       "count             NaN  3.37046e+06  3.37046e+06         NaN\n",
       "mean              NaN         27.5   1.2448e+06         NaN\n",
       "std               NaN      15.5858       589836         NaN\n",
       "min               NaN            1        96995         NaN\n",
       "25%               NaN           14       805321         NaN\n",
       "50%               NaN         27.5  1.29466e+06         NaN\n",
       "75%               NaN           41  1.73002e+06         NaN\n",
       "max               NaN           54  2.13424e+06         NaN\n",
       "counts        3370464      3370464      3370464     3370464\n",
       "uniques            16           54         3901           2\n",
       "missing             0            0            0           0\n",
       "missing_perc       0%           0%           0%          0%\n",
       "types            date      numeric      numeric        bool"
      ]
     },
     "metadata": {},
     "output_type": "display_data"
    },
    {
     "data": {
      "text/plain": [
       "'OIL'"
      ]
     },
     "metadata": {},
     "output_type": "display_data"
    },
    {
     "data": {
      "text/html": [
       "<div>\n",
       "<style>\n",
       "    .dataframe thead tr:only-child th {\n",
       "        text-align: right;\n",
       "    }\n",
       "\n",
       "    .dataframe thead th {\n",
       "        text-align: left;\n",
       "    }\n",
       "\n",
       "    .dataframe tbody tr th {\n",
       "        vertical-align: top;\n",
       "    }\n",
       "</style>\n",
       "<table border=\"1\" class=\"dataframe\">\n",
       "  <thead>\n",
       "    <tr style=\"text-align: right;\">\n",
       "      <th></th>\n",
       "      <th>date</th>\n",
       "      <th>dcoilwtico</th>\n",
       "    </tr>\n",
       "  </thead>\n",
       "  <tbody>\n",
       "    <tr>\n",
       "      <th>0</th>\n",
       "      <td>2013-01-01</td>\n",
       "      <td>NaN</td>\n",
       "    </tr>\n",
       "    <tr>\n",
       "      <th>1</th>\n",
       "      <td>2013-01-02</td>\n",
       "      <td>93.1250</td>\n",
       "    </tr>\n",
       "    <tr>\n",
       "      <th>2</th>\n",
       "      <td>2013-01-03</td>\n",
       "      <td>93.0000</td>\n",
       "    </tr>\n",
       "    <tr>\n",
       "      <th>3</th>\n",
       "      <td>2013-01-04</td>\n",
       "      <td>93.1250</td>\n",
       "    </tr>\n",
       "    <tr>\n",
       "      <th>4</th>\n",
       "      <td>2013-01-07</td>\n",
       "      <td>93.1875</td>\n",
       "    </tr>\n",
       "  </tbody>\n",
       "</table>\n",
       "</div>"
      ],
      "text/plain": [
       "        date  dcoilwtico\n",
       "0 2013-01-01         NaN\n",
       "1 2013-01-02     93.1250\n",
       "2 2013-01-03     93.0000\n",
       "3 2013-01-04     93.1250\n",
       "4 2013-01-07     93.1875"
      ]
     },
     "metadata": {},
     "output_type": "display_data"
    },
    {
     "data": {
      "text/html": [
       "<div>\n",
       "<style>\n",
       "    .dataframe thead tr:only-child th {\n",
       "        text-align: right;\n",
       "    }\n",
       "\n",
       "    .dataframe thead th {\n",
       "        text-align: left;\n",
       "    }\n",
       "\n",
       "    .dataframe tbody tr th {\n",
       "        vertical-align: top;\n",
       "    }\n",
       "</style>\n",
       "<table border=\"1\" class=\"dataframe\">\n",
       "  <thead>\n",
       "    <tr style=\"text-align: right;\">\n",
       "      <th></th>\n",
       "      <th>date</th>\n",
       "      <th>dcoilwtico</th>\n",
       "    </tr>\n",
       "  </thead>\n",
       "  <tbody>\n",
       "    <tr>\n",
       "      <th>count</th>\n",
       "      <td>NaN</td>\n",
       "      <td>1175</td>\n",
       "    </tr>\n",
       "    <tr>\n",
       "      <th>mean</th>\n",
       "      <td>NaN</td>\n",
       "      <td>inf</td>\n",
       "    </tr>\n",
       "    <tr>\n",
       "      <th>std</th>\n",
       "      <td>NaN</td>\n",
       "      <td>25.625</td>\n",
       "    </tr>\n",
       "    <tr>\n",
       "      <th>min</th>\n",
       "      <td>NaN</td>\n",
       "      <td>26.1875</td>\n",
       "    </tr>\n",
       "    <tr>\n",
       "      <th>25%</th>\n",
       "      <td>NaN</td>\n",
       "      <td>46.4062</td>\n",
       "    </tr>\n",
       "    <tr>\n",
       "      <th>50%</th>\n",
       "      <td>NaN</td>\n",
       "      <td>53.1875</td>\n",
       "    </tr>\n",
       "    <tr>\n",
       "      <th>75%</th>\n",
       "      <td>NaN</td>\n",
       "      <td>95.6562</td>\n",
       "    </tr>\n",
       "    <tr>\n",
       "      <th>max</th>\n",
       "      <td>NaN</td>\n",
       "      <td>110.625</td>\n",
       "    </tr>\n",
       "    <tr>\n",
       "      <th>counts</th>\n",
       "      <td>1218</td>\n",
       "      <td>1175</td>\n",
       "    </tr>\n",
       "    <tr>\n",
       "      <th>uniques</th>\n",
       "      <td>1218</td>\n",
       "      <td>704</td>\n",
       "    </tr>\n",
       "    <tr>\n",
       "      <th>missing</th>\n",
       "      <td>0</td>\n",
       "      <td>43</td>\n",
       "    </tr>\n",
       "    <tr>\n",
       "      <th>missing_perc</th>\n",
       "      <td>0%</td>\n",
       "      <td>3.53%</td>\n",
       "    </tr>\n",
       "    <tr>\n",
       "      <th>types</th>\n",
       "      <td>date</td>\n",
       "      <td>numeric</td>\n",
       "    </tr>\n",
       "  </tbody>\n",
       "</table>\n",
       "</div>"
      ],
      "text/plain": [
       "              date dcoilwtico\n",
       "count          NaN       1175\n",
       "mean           NaN        inf\n",
       "std            NaN     25.625\n",
       "min            NaN    26.1875\n",
       "25%            NaN    46.4062\n",
       "50%            NaN    53.1875\n",
       "75%            NaN    95.6562\n",
       "max            NaN    110.625\n",
       "counts        1218       1175\n",
       "uniques       1218        704\n",
       "missing          0         43\n",
       "missing_perc    0%      3.53%\n",
       "types         date    numeric"
      ]
     },
     "metadata": {},
     "output_type": "display_data"
    },
    {
     "data": {
      "text/plain": [
       "'HOLIDAYS'"
      ]
     },
     "metadata": {},
     "output_type": "display_data"
    },
    {
     "data": {
      "text/html": [
       "<div>\n",
       "<style>\n",
       "    .dataframe thead tr:only-child th {\n",
       "        text-align: right;\n",
       "    }\n",
       "\n",
       "    .dataframe thead th {\n",
       "        text-align: left;\n",
       "    }\n",
       "\n",
       "    .dataframe tbody tr th {\n",
       "        vertical-align: top;\n",
       "    }\n",
       "</style>\n",
       "<table border=\"1\" class=\"dataframe\">\n",
       "  <thead>\n",
       "    <tr style=\"text-align: right;\">\n",
       "      <th></th>\n",
       "      <th>date</th>\n",
       "      <th>type</th>\n",
       "      <th>locale</th>\n",
       "      <th>locale_name</th>\n",
       "      <th>description</th>\n",
       "      <th>transferred</th>\n",
       "    </tr>\n",
       "  </thead>\n",
       "  <tbody>\n",
       "    <tr>\n",
       "      <th>0</th>\n",
       "      <td>2012-03-02</td>\n",
       "      <td>Holiday</td>\n",
       "      <td>Local</td>\n",
       "      <td>Manta</td>\n",
       "      <td>Fundacion de Manta</td>\n",
       "      <td>False</td>\n",
       "    </tr>\n",
       "    <tr>\n",
       "      <th>1</th>\n",
       "      <td>2012-04-01</td>\n",
       "      <td>Holiday</td>\n",
       "      <td>Regional</td>\n",
       "      <td>Cotopaxi</td>\n",
       "      <td>Provincializacion de Cotopaxi</td>\n",
       "      <td>False</td>\n",
       "    </tr>\n",
       "    <tr>\n",
       "      <th>2</th>\n",
       "      <td>2012-04-12</td>\n",
       "      <td>Holiday</td>\n",
       "      <td>Local</td>\n",
       "      <td>Cuenca</td>\n",
       "      <td>Fundacion de Cuenca</td>\n",
       "      <td>False</td>\n",
       "    </tr>\n",
       "    <tr>\n",
       "      <th>3</th>\n",
       "      <td>2012-04-14</td>\n",
       "      <td>Holiday</td>\n",
       "      <td>Local</td>\n",
       "      <td>Libertad</td>\n",
       "      <td>Cantonizacion de Libertad</td>\n",
       "      <td>False</td>\n",
       "    </tr>\n",
       "    <tr>\n",
       "      <th>4</th>\n",
       "      <td>2012-04-21</td>\n",
       "      <td>Holiday</td>\n",
       "      <td>Local</td>\n",
       "      <td>Riobamba</td>\n",
       "      <td>Cantonizacion de Riobamba</td>\n",
       "      <td>False</td>\n",
       "    </tr>\n",
       "  </tbody>\n",
       "</table>\n",
       "</div>"
      ],
      "text/plain": [
       "        date     type    locale locale_name                    description  \\\n",
       "0 2012-03-02  Holiday     Local       Manta             Fundacion de Manta   \n",
       "1 2012-04-01  Holiday  Regional    Cotopaxi  Provincializacion de Cotopaxi   \n",
       "2 2012-04-12  Holiday     Local      Cuenca            Fundacion de Cuenca   \n",
       "3 2012-04-14  Holiday     Local    Libertad      Cantonizacion de Libertad   \n",
       "4 2012-04-21  Holiday     Local    Riobamba      Cantonizacion de Riobamba   \n",
       "\n",
       "   transferred  \n",
       "0        False  \n",
       "1        False  \n",
       "2        False  \n",
       "3        False  \n",
       "4        False  "
      ]
     },
     "metadata": {},
     "output_type": "display_data"
    },
    {
     "data": {
      "text/html": [
       "<div>\n",
       "<style>\n",
       "    .dataframe thead tr:only-child th {\n",
       "        text-align: right;\n",
       "    }\n",
       "\n",
       "    .dataframe thead th {\n",
       "        text-align: left;\n",
       "    }\n",
       "\n",
       "    .dataframe tbody tr th {\n",
       "        vertical-align: top;\n",
       "    }\n",
       "</style>\n",
       "<table border=\"1\" class=\"dataframe\">\n",
       "  <thead>\n",
       "    <tr style=\"text-align: right;\">\n",
       "      <th></th>\n",
       "      <th>date</th>\n",
       "      <th>type</th>\n",
       "      <th>locale</th>\n",
       "      <th>locale_name</th>\n",
       "      <th>description</th>\n",
       "      <th>transferred</th>\n",
       "    </tr>\n",
       "  </thead>\n",
       "  <tbody>\n",
       "    <tr>\n",
       "      <th>count</th>\n",
       "      <td>350</td>\n",
       "      <td>350</td>\n",
       "      <td>350</td>\n",
       "      <td>350</td>\n",
       "      <td>350</td>\n",
       "      <td>350</td>\n",
       "    </tr>\n",
       "    <tr>\n",
       "      <th>unique</th>\n",
       "      <td>312</td>\n",
       "      <td>6</td>\n",
       "      <td>3</td>\n",
       "      <td>24</td>\n",
       "      <td>103</td>\n",
       "      <td>2</td>\n",
       "    </tr>\n",
       "    <tr>\n",
       "      <th>top</th>\n",
       "      <td>2014-06-25 00:00:00</td>\n",
       "      <td>Holiday</td>\n",
       "      <td>National</td>\n",
       "      <td>Ecuador</td>\n",
       "      <td>Carnaval</td>\n",
       "      <td>False</td>\n",
       "    </tr>\n",
       "    <tr>\n",
       "      <th>freq</th>\n",
       "      <td>4</td>\n",
       "      <td>221</td>\n",
       "      <td>174</td>\n",
       "      <td>174</td>\n",
       "      <td>10</td>\n",
       "      <td>338</td>\n",
       "    </tr>\n",
       "    <tr>\n",
       "      <th>first</th>\n",
       "      <td>2012-03-02 00:00:00</td>\n",
       "      <td>NaN</td>\n",
       "      <td>NaN</td>\n",
       "      <td>NaN</td>\n",
       "      <td>NaN</td>\n",
       "      <td>NaN</td>\n",
       "    </tr>\n",
       "    <tr>\n",
       "      <th>last</th>\n",
       "      <td>2017-12-26 00:00:00</td>\n",
       "      <td>NaN</td>\n",
       "      <td>NaN</td>\n",
       "      <td>NaN</td>\n",
       "      <td>NaN</td>\n",
       "      <td>NaN</td>\n",
       "    </tr>\n",
       "    <tr>\n",
       "      <th>counts</th>\n",
       "      <td>350</td>\n",
       "      <td>350</td>\n",
       "      <td>350</td>\n",
       "      <td>350</td>\n",
       "      <td>350</td>\n",
       "      <td>350</td>\n",
       "    </tr>\n",
       "    <tr>\n",
       "      <th>uniques</th>\n",
       "      <td>312</td>\n",
       "      <td>6</td>\n",
       "      <td>3</td>\n",
       "      <td>24</td>\n",
       "      <td>103</td>\n",
       "      <td>2</td>\n",
       "    </tr>\n",
       "    <tr>\n",
       "      <th>missing</th>\n",
       "      <td>0</td>\n",
       "      <td>0</td>\n",
       "      <td>0</td>\n",
       "      <td>0</td>\n",
       "      <td>0</td>\n",
       "      <td>0</td>\n",
       "    </tr>\n",
       "    <tr>\n",
       "      <th>missing_perc</th>\n",
       "      <td>0%</td>\n",
       "      <td>0%</td>\n",
       "      <td>0%</td>\n",
       "      <td>0%</td>\n",
       "      <td>0%</td>\n",
       "      <td>0%</td>\n",
       "    </tr>\n",
       "    <tr>\n",
       "      <th>types</th>\n",
       "      <td>date</td>\n",
       "      <td>categorical</td>\n",
       "      <td>categorical</td>\n",
       "      <td>categorical</td>\n",
       "      <td>categorical</td>\n",
       "      <td>bool</td>\n",
       "    </tr>\n",
       "  </tbody>\n",
       "</table>\n",
       "</div>"
      ],
      "text/plain": [
       "                             date         type       locale  locale_name  \\\n",
       "count                         350          350          350          350   \n",
       "unique                        312            6            3           24   \n",
       "top           2014-06-25 00:00:00      Holiday     National      Ecuador   \n",
       "freq                            4          221          174          174   \n",
       "first         2012-03-02 00:00:00          NaN          NaN          NaN   \n",
       "last          2017-12-26 00:00:00          NaN          NaN          NaN   \n",
       "counts                        350          350          350          350   \n",
       "uniques                       312            6            3           24   \n",
       "missing                         0            0            0            0   \n",
       "missing_perc                   0%           0%           0%           0%   \n",
       "types                        date  categorical  categorical  categorical   \n",
       "\n",
       "              description transferred  \n",
       "count                 350         350  \n",
       "unique                103           2  \n",
       "top              Carnaval       False  \n",
       "freq                   10         338  \n",
       "first                 NaN         NaN  \n",
       "last                  NaN         NaN  \n",
       "counts                350         350  \n",
       "uniques               103           2  \n",
       "missing                 0           0  \n",
       "missing_perc           0%          0%  \n",
       "types         categorical        bool  "
      ]
     },
     "metadata": {},
     "output_type": "display_data"
    },
    {
     "data": {
      "text/plain": [
       "'STORES'"
      ]
     },
     "metadata": {},
     "output_type": "display_data"
    },
    {
     "data": {
      "text/html": [
       "<div>\n",
       "<style>\n",
       "    .dataframe thead tr:only-child th {\n",
       "        text-align: right;\n",
       "    }\n",
       "\n",
       "    .dataframe thead th {\n",
       "        text-align: left;\n",
       "    }\n",
       "\n",
       "    .dataframe tbody tr th {\n",
       "        vertical-align: top;\n",
       "    }\n",
       "</style>\n",
       "<table border=\"1\" class=\"dataframe\">\n",
       "  <thead>\n",
       "    <tr style=\"text-align: right;\">\n",
       "      <th></th>\n",
       "      <th>city</th>\n",
       "      <th>state</th>\n",
       "      <th>type</th>\n",
       "      <th>cluster</th>\n",
       "    </tr>\n",
       "    <tr>\n",
       "      <th>store_nbr</th>\n",
       "      <th></th>\n",
       "      <th></th>\n",
       "      <th></th>\n",
       "      <th></th>\n",
       "    </tr>\n",
       "  </thead>\n",
       "  <tbody>\n",
       "    <tr>\n",
       "      <th>1</th>\n",
       "      <td>Quito</td>\n",
       "      <td>Pichincha</td>\n",
       "      <td>D</td>\n",
       "      <td>13</td>\n",
       "    </tr>\n",
       "    <tr>\n",
       "      <th>2</th>\n",
       "      <td>Quito</td>\n",
       "      <td>Pichincha</td>\n",
       "      <td>D</td>\n",
       "      <td>13</td>\n",
       "    </tr>\n",
       "    <tr>\n",
       "      <th>3</th>\n",
       "      <td>Quito</td>\n",
       "      <td>Pichincha</td>\n",
       "      <td>D</td>\n",
       "      <td>8</td>\n",
       "    </tr>\n",
       "    <tr>\n",
       "      <th>4</th>\n",
       "      <td>Quito</td>\n",
       "      <td>Pichincha</td>\n",
       "      <td>D</td>\n",
       "      <td>9</td>\n",
       "    </tr>\n",
       "    <tr>\n",
       "      <th>5</th>\n",
       "      <td>Santo Domingo</td>\n",
       "      <td>Santo Domingo de los Tsachilas</td>\n",
       "      <td>D</td>\n",
       "      <td>4</td>\n",
       "    </tr>\n",
       "  </tbody>\n",
       "</table>\n",
       "</div>"
      ],
      "text/plain": [
       "                    city                           state type  cluster\n",
       "store_nbr                                                             \n",
       "1                  Quito                       Pichincha    D       13\n",
       "2                  Quito                       Pichincha    D       13\n",
       "3                  Quito                       Pichincha    D        8\n",
       "4                  Quito                       Pichincha    D        9\n",
       "5          Santo Domingo  Santo Domingo de los Tsachilas    D        4"
      ]
     },
     "metadata": {},
     "output_type": "display_data"
    },
    {
     "data": {
      "text/html": [
       "<div>\n",
       "<style>\n",
       "    .dataframe thead tr:only-child th {\n",
       "        text-align: right;\n",
       "    }\n",
       "\n",
       "    .dataframe thead th {\n",
       "        text-align: left;\n",
       "    }\n",
       "\n",
       "    .dataframe tbody tr th {\n",
       "        vertical-align: top;\n",
       "    }\n",
       "</style>\n",
       "<table border=\"1\" class=\"dataframe\">\n",
       "  <thead>\n",
       "    <tr style=\"text-align: right;\">\n",
       "      <th></th>\n",
       "      <th>city</th>\n",
       "      <th>state</th>\n",
       "      <th>type</th>\n",
       "      <th>cluster</th>\n",
       "    </tr>\n",
       "  </thead>\n",
       "  <tbody>\n",
       "    <tr>\n",
       "      <th>count</th>\n",
       "      <td>NaN</td>\n",
       "      <td>NaN</td>\n",
       "      <td>NaN</td>\n",
       "      <td>54</td>\n",
       "    </tr>\n",
       "    <tr>\n",
       "      <th>mean</th>\n",
       "      <td>NaN</td>\n",
       "      <td>NaN</td>\n",
       "      <td>NaN</td>\n",
       "      <td>8.48148</td>\n",
       "    </tr>\n",
       "    <tr>\n",
       "      <th>std</th>\n",
       "      <td>NaN</td>\n",
       "      <td>NaN</td>\n",
       "      <td>NaN</td>\n",
       "      <td>4.69339</td>\n",
       "    </tr>\n",
       "    <tr>\n",
       "      <th>min</th>\n",
       "      <td>NaN</td>\n",
       "      <td>NaN</td>\n",
       "      <td>NaN</td>\n",
       "      <td>1</td>\n",
       "    </tr>\n",
       "    <tr>\n",
       "      <th>25%</th>\n",
       "      <td>NaN</td>\n",
       "      <td>NaN</td>\n",
       "      <td>NaN</td>\n",
       "      <td>4</td>\n",
       "    </tr>\n",
       "    <tr>\n",
       "      <th>50%</th>\n",
       "      <td>NaN</td>\n",
       "      <td>NaN</td>\n",
       "      <td>NaN</td>\n",
       "      <td>8.5</td>\n",
       "    </tr>\n",
       "    <tr>\n",
       "      <th>75%</th>\n",
       "      <td>NaN</td>\n",
       "      <td>NaN</td>\n",
       "      <td>NaN</td>\n",
       "      <td>13</td>\n",
       "    </tr>\n",
       "    <tr>\n",
       "      <th>max</th>\n",
       "      <td>NaN</td>\n",
       "      <td>NaN</td>\n",
       "      <td>NaN</td>\n",
       "      <td>17</td>\n",
       "    </tr>\n",
       "    <tr>\n",
       "      <th>counts</th>\n",
       "      <td>54</td>\n",
       "      <td>54</td>\n",
       "      <td>54</td>\n",
       "      <td>54</td>\n",
       "    </tr>\n",
       "    <tr>\n",
       "      <th>uniques</th>\n",
       "      <td>22</td>\n",
       "      <td>16</td>\n",
       "      <td>5</td>\n",
       "      <td>17</td>\n",
       "    </tr>\n",
       "    <tr>\n",
       "      <th>missing</th>\n",
       "      <td>0</td>\n",
       "      <td>0</td>\n",
       "      <td>0</td>\n",
       "      <td>0</td>\n",
       "    </tr>\n",
       "    <tr>\n",
       "      <th>missing_perc</th>\n",
       "      <td>0%</td>\n",
       "      <td>0%</td>\n",
       "      <td>0%</td>\n",
       "      <td>0%</td>\n",
       "    </tr>\n",
       "    <tr>\n",
       "      <th>types</th>\n",
       "      <td>categorical</td>\n",
       "      <td>categorical</td>\n",
       "      <td>categorical</td>\n",
       "      <td>numeric</td>\n",
       "    </tr>\n",
       "  </tbody>\n",
       "</table>\n",
       "</div>"
      ],
      "text/plain": [
       "                     city        state         type  cluster\n",
       "count                 NaN          NaN          NaN       54\n",
       "mean                  NaN          NaN          NaN  8.48148\n",
       "std                   NaN          NaN          NaN  4.69339\n",
       "min                   NaN          NaN          NaN        1\n",
       "25%                   NaN          NaN          NaN        4\n",
       "50%                   NaN          NaN          NaN      8.5\n",
       "75%                   NaN          NaN          NaN       13\n",
       "max                   NaN          NaN          NaN       17\n",
       "counts                 54           54           54       54\n",
       "uniques                22           16            5       17\n",
       "missing                 0            0            0        0\n",
       "missing_perc           0%           0%           0%       0%\n",
       "types         categorical  categorical  categorical  numeric"
      ]
     },
     "metadata": {},
     "output_type": "display_data"
    },
    {
     "data": {
      "text/plain": [
       "'ITEMS'"
      ]
     },
     "metadata": {},
     "output_type": "display_data"
    },
    {
     "data": {
      "text/html": [
       "<div>\n",
       "<style>\n",
       "    .dataframe thead tr:only-child th {\n",
       "        text-align: right;\n",
       "    }\n",
       "\n",
       "    .dataframe thead th {\n",
       "        text-align: left;\n",
       "    }\n",
       "\n",
       "    .dataframe tbody tr th {\n",
       "        vertical-align: top;\n",
       "    }\n",
       "</style>\n",
       "<table border=\"1\" class=\"dataframe\">\n",
       "  <thead>\n",
       "    <tr style=\"text-align: right;\">\n",
       "      <th></th>\n",
       "      <th>family</th>\n",
       "      <th>class</th>\n",
       "      <th>perishable</th>\n",
       "    </tr>\n",
       "    <tr>\n",
       "      <th>item_nbr</th>\n",
       "      <th></th>\n",
       "      <th></th>\n",
       "      <th></th>\n",
       "    </tr>\n",
       "  </thead>\n",
       "  <tbody>\n",
       "    <tr>\n",
       "      <th>96995</th>\n",
       "      <td>GROCERY I</td>\n",
       "      <td>1093</td>\n",
       "      <td>False</td>\n",
       "    </tr>\n",
       "    <tr>\n",
       "      <th>99197</th>\n",
       "      <td>GROCERY I</td>\n",
       "      <td>1067</td>\n",
       "      <td>False</td>\n",
       "    </tr>\n",
       "    <tr>\n",
       "      <th>103501</th>\n",
       "      <td>CLEANING</td>\n",
       "      <td>3008</td>\n",
       "      <td>False</td>\n",
       "    </tr>\n",
       "    <tr>\n",
       "      <th>103520</th>\n",
       "      <td>GROCERY I</td>\n",
       "      <td>1028</td>\n",
       "      <td>False</td>\n",
       "    </tr>\n",
       "    <tr>\n",
       "      <th>103665</th>\n",
       "      <td>BREAD/BAKERY</td>\n",
       "      <td>2712</td>\n",
       "      <td>True</td>\n",
       "    </tr>\n",
       "  </tbody>\n",
       "</table>\n",
       "</div>"
      ],
      "text/plain": [
       "                family  class  perishable\n",
       "item_nbr                                 \n",
       "96995        GROCERY I   1093       False\n",
       "99197        GROCERY I   1067       False\n",
       "103501        CLEANING   3008       False\n",
       "103520       GROCERY I   1028       False\n",
       "103665    BREAD/BAKERY   2712        True"
      ]
     },
     "metadata": {},
     "output_type": "display_data"
    },
    {
     "data": {
      "text/html": [
       "<div>\n",
       "<style>\n",
       "    .dataframe thead tr:only-child th {\n",
       "        text-align: right;\n",
       "    }\n",
       "\n",
       "    .dataframe thead th {\n",
       "        text-align: left;\n",
       "    }\n",
       "\n",
       "    .dataframe tbody tr th {\n",
       "        vertical-align: top;\n",
       "    }\n",
       "</style>\n",
       "<table border=\"1\" class=\"dataframe\">\n",
       "  <thead>\n",
       "    <tr style=\"text-align: right;\">\n",
       "      <th></th>\n",
       "      <th>family</th>\n",
       "      <th>class</th>\n",
       "      <th>perishable</th>\n",
       "    </tr>\n",
       "  </thead>\n",
       "  <tbody>\n",
       "    <tr>\n",
       "      <th>count</th>\n",
       "      <td>NaN</td>\n",
       "      <td>4100</td>\n",
       "      <td>NaN</td>\n",
       "    </tr>\n",
       "    <tr>\n",
       "      <th>mean</th>\n",
       "      <td>NaN</td>\n",
       "      <td>2169.65</td>\n",
       "      <td>NaN</td>\n",
       "    </tr>\n",
       "    <tr>\n",
       "      <th>std</th>\n",
       "      <td>NaN</td>\n",
       "      <td>1484.91</td>\n",
       "      <td>NaN</td>\n",
       "    </tr>\n",
       "    <tr>\n",
       "      <th>min</th>\n",
       "      <td>NaN</td>\n",
       "      <td>1002</td>\n",
       "      <td>NaN</td>\n",
       "    </tr>\n",
       "    <tr>\n",
       "      <th>25%</th>\n",
       "      <td>NaN</td>\n",
       "      <td>1068</td>\n",
       "      <td>NaN</td>\n",
       "    </tr>\n",
       "    <tr>\n",
       "      <th>50%</th>\n",
       "      <td>NaN</td>\n",
       "      <td>2004</td>\n",
       "      <td>NaN</td>\n",
       "    </tr>\n",
       "    <tr>\n",
       "      <th>75%</th>\n",
       "      <td>NaN</td>\n",
       "      <td>2990.5</td>\n",
       "      <td>NaN</td>\n",
       "    </tr>\n",
       "    <tr>\n",
       "      <th>max</th>\n",
       "      <td>NaN</td>\n",
       "      <td>7780</td>\n",
       "      <td>NaN</td>\n",
       "    </tr>\n",
       "    <tr>\n",
       "      <th>counts</th>\n",
       "      <td>4100</td>\n",
       "      <td>4100</td>\n",
       "      <td>4100</td>\n",
       "    </tr>\n",
       "    <tr>\n",
       "      <th>uniques</th>\n",
       "      <td>33</td>\n",
       "      <td>337</td>\n",
       "      <td>2</td>\n",
       "    </tr>\n",
       "    <tr>\n",
       "      <th>missing</th>\n",
       "      <td>0</td>\n",
       "      <td>0</td>\n",
       "      <td>0</td>\n",
       "    </tr>\n",
       "    <tr>\n",
       "      <th>missing_perc</th>\n",
       "      <td>0%</td>\n",
       "      <td>0%</td>\n",
       "      <td>0%</td>\n",
       "    </tr>\n",
       "    <tr>\n",
       "      <th>types</th>\n",
       "      <td>categorical</td>\n",
       "      <td>numeric</td>\n",
       "      <td>bool</td>\n",
       "    </tr>\n",
       "  </tbody>\n",
       "</table>\n",
       "</div>"
      ],
      "text/plain": [
       "                   family    class perishable\n",
       "count                 NaN     4100        NaN\n",
       "mean                  NaN  2169.65        NaN\n",
       "std                   NaN  1484.91        NaN\n",
       "min                   NaN     1002        NaN\n",
       "25%                   NaN     1068        NaN\n",
       "50%                   NaN     2004        NaN\n",
       "75%                   NaN   2990.5        NaN\n",
       "max                   NaN     7780        NaN\n",
       "counts               4100     4100       4100\n",
       "uniques                33      337          2\n",
       "missing                 0        0          0\n",
       "missing_perc           0%       0%         0%\n",
       "types         categorical  numeric       bool"
      ]
     },
     "metadata": {},
     "output_type": "display_data"
    }
   ],
   "source": [
    "for t in tables: display(t.name, t.head(), DataFrameSummary(t).summary())"
   ]
  },
  {
   "cell_type": "markdown",
   "metadata": {},
   "source": [
    "#### Merget test/train"
   ]
  },
  {
   "cell_type": "code",
   "execution_count": 13,
   "metadata": {
    "collapsed": true
   },
   "outputs": [],
   "source": [
    "#prob don't need\n",
    "# last_train = train_df.iloc[-1].name\n",
    "all_df = train_df.append(test_df)\n",
    "# last_train"
   ]
  },
  {
   "cell_type": "code",
   "execution_count": 14,
   "metadata": {},
   "outputs": [
    {
     "data": {
      "text/plain": [
       "True"
      ]
     },
     "execution_count": 14,
     "metadata": {},
     "output_type": "execute_result"
    }
   ],
   "source": [
    "all_df_name='new_full_df.pkl'\n",
    "save_n_load_df(all_df, all_df_name)"
   ]
  },
  {
   "cell_type": "code",
   "execution_count": 15,
   "metadata": {
    "collapsed": true
   },
   "outputs": [],
   "source": [
    "del(train_df); del(test_df)"
   ]
  },
  {
   "cell_type": "markdown",
   "metadata": {},
   "source": [
    "#### Remove null data"
   ]
  },
  {
   "cell_type": "code",
   "execution_count": 17,
   "metadata": {},
   "outputs": [
    {
     "data": {
      "text/plain": [
       "date           False\n",
       "item_nbr       False\n",
       "onpromotion     True\n",
       "store_nbr      False\n",
       "unit_sales      True\n",
       "dtype: bool"
      ]
     },
     "execution_count": 17,
     "metadata": {},
     "output_type": "execute_result"
    }
   ],
   "source": [
    "all_df.isnull().any()\n",
    "# of course ignore unit_sales since missing from test"
   ]
  },
  {
   "cell_type": "code",
   "execution_count": 18,
   "metadata": {
    "collapsed": true
   },
   "outputs": [],
   "source": [
    "all_df.onpromotion.fillna(False, inplace=True)"
   ]
  },
  {
   "cell_type": "code",
   "execution_count": null,
   "metadata": {
    "collapsed": true
   },
   "outputs": [],
   "source": [
    "all_df['onpromotion']=all_df['onpromotion'].astype(np.int8)"
   ]
  },
  {
   "cell_type": "code",
   "execution_count": 20,
   "metadata": {},
   "outputs": [
    {
     "data": {
      "text/plain": [
       "True"
      ]
     },
     "execution_count": 20,
     "metadata": {},
     "output_type": "execute_result"
    }
   ],
   "source": [
    "save_n_load_df(all_df, all_df_name)"
   ]
  },
  {
   "cell_type": "markdown",
   "metadata": {},
   "source": [
    "## Data clean / feature eng\n",
    "From https://github.com/fastai/courses/blob/master/deeplearning2/rossman.ipynb"
   ]
  },
  {
   "cell_type": "code",
   "execution_count": 11,
   "metadata": {
    "collapsed": true
   },
   "outputs": [],
   "source": []
  },
  {
   "cell_type": "markdown",
   "metadata": {},
   "source": [
    "### add dateparts"
   ]
  },
  {
   "cell_type": "code",
   "execution_count": 21,
   "metadata": {
    "collapsed": true
   },
   "outputs": [],
   "source": [
    "add_datepart(all_df)"
   ]
  },
  {
   "cell_type": "code",
   "execution_count": 22,
   "metadata": {},
   "outputs": [
    {
     "data": {
      "text/plain": [
       "True"
      ]
     },
     "execution_count": 22,
     "metadata": {},
     "output_type": "execute_result"
    }
   ],
   "source": [
    "save_n_load_df(all_df, all_df_name)"
   ]
  },
  {
   "cell_type": "markdown",
   "metadata": {},
   "source": [
    "### Joins"
   ]
  },
  {
   "cell_type": "markdown",
   "metadata": {},
   "source": [
    "#### Oil"
   ]
  },
  {
   "cell_type": "code",
   "execution_count": 23,
   "metadata": {
    "collapsed": true
   },
   "outputs": [],
   "source": [
    "joined=join_df(all_df, oil_df, 'date')"
   ]
  },
  {
   "cell_type": "code",
   "execution_count": 50,
   "metadata": {
    "collapsed": true
   },
   "outputs": [],
   "source": [
    "joined['dcoilwtico'].interpolate(inplace=True, limit_direction='both')"
   ]
  },
  {
   "cell_type": "code",
   "execution_count": 52,
   "metadata": {
    "collapsed": true
   },
   "outputs": [],
   "source": [
    "#make ints to simplify\n",
    "joined['dcoilwtico']=joined['dcoilwtico'].astype(np.int8)"
   ]
  },
  {
   "cell_type": "code",
   "execution_count": 54,
   "metadata": {},
   "outputs": [
    {
     "data": {
      "text/plain": [
       "True"
      ]
     },
     "execution_count": 54,
     "metadata": {},
     "output_type": "execute_result"
    }
   ],
   "source": [
    "save_n_load_df(joined, 'oil_joined.pkl')"
   ]
  },
  {
   "cell_type": "markdown",
   "metadata": {},
   "source": [
    "### Stores"
   ]
  },
  {
   "cell_type": "code",
   "execution_count": 55,
   "metadata": {
    "collapsed": true
   },
   "outputs": [],
   "source": [
    "joined=join_df(joined, stores_df, 'store_nbr')"
   ]
  },
  {
   "cell_type": "code",
   "execution_count": 56,
   "metadata": {},
   "outputs": [
    {
     "data": {
      "text/plain": [
       "True"
      ]
     },
     "execution_count": 56,
     "metadata": {},
     "output_type": "execute_result"
    }
   ],
   "source": [
    "save_n_load_df(joined, 'joined_stores.pkl')"
   ]
  },
  {
   "cell_type": "markdown",
   "metadata": {},
   "source": [
    "#### Items"
   ]
  },
  {
   "cell_type": "code",
   "execution_count": 57,
   "metadata": {
    "collapsed": true
   },
   "outputs": [],
   "source": [
    "joined=join_df(joined, items_df, 'item_nbr')"
   ]
  },
  {
   "cell_type": "code",
   "execution_count": 58,
   "metadata": {},
   "outputs": [
    {
     "data": {
      "text/plain": [
       "True"
      ]
     },
     "execution_count": 58,
     "metadata": {},
     "output_type": "execute_result"
    }
   ],
   "source": [
    "save_n_load_df(joined, 'joined_items.pkl')"
   ]
  },
  {
   "cell_type": "markdown",
   "metadata": {},
   "source": [
    "### Transactions"
   ]
  },
  {
   "cell_type": "code",
   "execution_count": 59,
   "metadata": {
    "collapsed": true
   },
   "outputs": [],
   "source": [
    "joined = join_df(joined, transactions_df, ['date', 'store_nbr'])"
   ]
  },
  {
   "cell_type": "code",
   "execution_count": 61,
   "metadata": {},
   "outputs": [
    {
     "data": {
      "text/plain": [
       "True"
      ]
     },
     "execution_count": 61,
     "metadata": {},
     "output_type": "execute_result"
    }
   ],
   "source": [
    "save_n_load_df(joined, 'joined_transactions.pkl')"
   ]
  },
  {
   "cell_type": "markdown",
   "metadata": {},
   "source": [
    "#### HOliday"
   ]
  },
  {
   "cell_type": "markdown",
   "metadata": {},
   "source": [
    "##### todo\n",
    "\n",
    "1. Add boolean loc_hol, reg_hol, nat_hol columns to holidays_df\n",
    "1. Add city, state to holiday_df based on locale_name\n",
    "1. merge local_hol with joined on date, city\n",
    "1. merge regional_hol with joined on date, state\n",
    "1. merge nat_hol with joined on date\n",
    "\n",
    "##### todo\n",
    "1. go back and check the holiday rules to see if these are actually correct"
   ]
  },
  {
   "cell_type": "markdown",
   "metadata": {},
   "source": [
    "#Local non-Holiday types are all holiday_like. Allows us to set cities['local_hol']=1 below\n",
    "ph.loc[(ph['locale']=='Local') & (ph['type']!='Holiday')]['type'].value_counts()"
   ]
  },
  {
   "cell_type": "markdown",
   "metadata": {},
   "source": [
    "#All regional are type Holiday. Allows us to set cities['local_hol']=1 below\n",
    "ph.loc[(ph['locale']=='Regional')]['type'].value_counts()"
   ]
  },
  {
   "cell_type": "markdown",
   "metadata": {},
   "source": [
    "#### Generate mergable holidays table"
   ]
  },
  {
   "cell_type": "code",
   "execution_count": 62,
   "metadata": {
    "collapsed": true
   },
   "outputs": [],
   "source": [
    "#Using the locale_name to identify cities and states. Then we can merge with joined table.\n",
    "#Effectively ignoring locale Local and Regional since they don't align perfectly with either.\n",
    "#from https://www.kaggle.com/c/favorita-grocery-sales-forecasting/data\n",
    "holiday_like = ['Holiday', 'Additional', 'Transfer', 'Bridge']\n",
    "#copy of holiday df for data wrangling\n",
    "ph=holidays_df.copy()\n",
    "#cities, Local\n",
    "cities = stores_df[['city']].drop_duplicates() \n",
    "cities['locale_name'] = cities['city']\n",
    "cities['city_hol']=1\n",
    "ph=join_df(ph,cities, 'locale_name')\n",
    "#states, Regional\n",
    "states = stores_df[['state']].drop_duplicates() \n",
    "states['locale_name'] = states['state']\n",
    "states['state_hol']=1\n",
    "ph=join_df(ph,states, 'locale_name')\n",
    "#cleanup\n",
    "for p in ['city_hol', 'state_hol']:\n",
    "    ph[p].fillna(0, inplace=True)\n",
    "    ph[p]=ph[p].astype(np.int8)\n",
    "#National holiday and events. More complex, must check for holiday_like\n",
    "ph['nat_hol']=ph.apply(lambda row: row['locale']=='National' and row['type'] in holiday_like, axis=1).astype(np.int8)\n",
    "ph['nat_event']=ph.apply(lambda row:row['type']=='Event', axis=1).astype(np.int8)\n",
    "#TODO - Consider adding descriptions of holidays"
   ]
  },
  {
   "cell_type": "code",
   "execution_count": 63,
   "metadata": {},
   "outputs": [
    {
     "data": {
      "text/plain": [
       "True"
      ]
     },
     "execution_count": 63,
     "metadata": {},
     "output_type": "execute_result"
    }
   ],
   "source": [
    "save_n_load_df(ph, 'mergeable_holidays.pkl')\n",
    "# ph = load_df('mergeable_holidays.pkl')"
   ]
  },
  {
   "cell_type": "code",
   "execution_count": null,
   "metadata": {
    "collapsed": true
   },
   "outputs": [],
   "source": [
    "display(DataFrameSummary(ph).summary(), ph.info(), ph.head())"
   ]
  },
  {
   "cell_type": "code",
   "execution_count": 65,
   "metadata": {
    "collapsed": true
   },
   "outputs": [],
   "source": [
    "city_holidays_df = ph.loc[ph['city_hol']==1, ['date', 'city', 'city_hol']].copy().reset_index(drop=True)\n",
    "state_holidays_df = ph.loc[ph['state_hol']==1, ['date', 'state', 'state_hol']].copy().reset_index(drop=True)\n",
    "nat_holidays_df = ph.loc[ph['nat_hol']==1, ['date', 'nat_hol']].copy().reset_index(drop=True)\n",
    "nat_events_df = ph.loc[ph['nat_event']==1, ['date', 'nat_event']].copy().reset_index(drop=True)"
   ]
  },
  {
   "cell_type": "markdown",
   "metadata": {},
   "source": [
    "#### Merge with joined"
   ]
  },
  {
   "cell_type": "code",
   "execution_count": 66,
   "metadata": {
    "collapsed": true
   },
   "outputs": [],
   "source": [
    "joined = load_df('joined_transactions.pkl')"
   ]
  },
  {
   "cell_type": "markdown",
   "metadata": {},
   "source": [
    "##### city holidays"
   ]
  },
  {
   "cell_type": "code",
   "execution_count": 71,
   "metadata": {
    "collapsed": true
   },
   "outputs": [
    {
     "data": {
      "text/html": [
       "<div>\n",
       "<style>\n",
       "    .dataframe thead tr:only-child th {\n",
       "        text-align: right;\n",
       "    }\n",
       "\n",
       "    .dataframe thead th {\n",
       "        text-align: left;\n",
       "    }\n",
       "\n",
       "    .dataframe tbody tr th {\n",
       "        vertical-align: top;\n",
       "    }\n",
       "</style>\n",
       "<table border=\"1\" class=\"dataframe\">\n",
       "  <thead>\n",
       "    <tr style=\"text-align: right;\">\n",
       "      <th></th>\n",
       "      <th>date</th>\n",
       "      <th>city</th>\n",
       "      <th>city_hol</th>\n",
       "    </tr>\n",
       "  </thead>\n",
       "  <tbody>\n",
       "    <tr>\n",
       "      <th>0</th>\n",
       "      <td>2012-03-02</td>\n",
       "      <td>Manta</td>\n",
       "      <td>1</td>\n",
       "    </tr>\n",
       "    <tr>\n",
       "      <th>1</th>\n",
       "      <td>2012-04-12</td>\n",
       "      <td>Cuenca</td>\n",
       "      <td>1</td>\n",
       "    </tr>\n",
       "    <tr>\n",
       "      <th>2</th>\n",
       "      <td>2012-04-14</td>\n",
       "      <td>Libertad</td>\n",
       "      <td>1</td>\n",
       "    </tr>\n",
       "    <tr>\n",
       "      <th>3</th>\n",
       "      <td>2012-04-21</td>\n",
       "      <td>Riobamba</td>\n",
       "      <td>1</td>\n",
       "    </tr>\n",
       "    <tr>\n",
       "      <th>4</th>\n",
       "      <td>2012-05-12</td>\n",
       "      <td>Puyo</td>\n",
       "      <td>1</td>\n",
       "    </tr>\n",
       "  </tbody>\n",
       "</table>\n",
       "</div>"
      ],
      "text/plain": [
       "        date      city  city_hol\n",
       "0 2012-03-02     Manta         1\n",
       "1 2012-04-12    Cuenca         1\n",
       "2 2012-04-14  Libertad         1\n",
       "3 2012-04-21  Riobamba         1\n",
       "4 2012-05-12      Puyo         1"
      ]
     },
     "execution_count": 71,
     "metadata": {},
     "output_type": "execute_result"
    }
   ],
   "source": [
    "city_holidays_df.head()"
   ]
  },
  {
   "cell_type": "code",
   "execution_count": 67,
   "metadata": {
    "collapsed": true
   },
   "outputs": [],
   "source": [
    "joined=join_df(joined, city_holidays_df, ['date', 'city'])"
   ]
  },
  {
   "cell_type": "code",
   "execution_count": 68,
   "metadata": {
    "collapsed": true
   },
   "outputs": [],
   "source": [
    "fillna_with_zeros(joined, 'city_hol')"
   ]
  },
  {
   "cell_type": "code",
   "execution_count": 69,
   "metadata": {
    "collapsed": true
   },
   "outputs": [],
   "source": [
    "chk = joined.loc[joined['city_hol']==1]"
   ]
  },
  {
   "cell_type": "code",
   "execution_count": 76,
   "metadata": {},
   "outputs": [
    {
     "data": {
      "text/html": [
       "<div>\n",
       "<style>\n",
       "    .dataframe thead tr:only-child th {\n",
       "        text-align: right;\n",
       "    }\n",
       "\n",
       "    .dataframe thead th {\n",
       "        text-align: left;\n",
       "    }\n",
       "\n",
       "    .dataframe tbody tr th {\n",
       "        vertical-align: top;\n",
       "    }\n",
       "</style>\n",
       "<table border=\"1\" class=\"dataframe\">\n",
       "  <thead>\n",
       "    <tr style=\"text-align: right;\">\n",
       "      <th></th>\n",
       "      <th>date</th>\n",
       "      <th>type</th>\n",
       "      <th>locale</th>\n",
       "      <th>locale_name</th>\n",
       "      <th>description</th>\n",
       "      <th>transferred</th>\n",
       "    </tr>\n",
       "  </thead>\n",
       "  <tbody>\n",
       "    <tr>\n",
       "      <th>47</th>\n",
       "      <td>2013-04-01</td>\n",
       "      <td>Holiday</td>\n",
       "      <td>Regional</td>\n",
       "      <td>Cotopaxi</td>\n",
       "      <td>Provincializacion de Cotopaxi</td>\n",
       "      <td>False</td>\n",
       "    </tr>\n",
       "  </tbody>\n",
       "</table>\n",
       "</div>"
      ],
      "text/plain": [
       "         date     type    locale locale_name                    description  \\\n",
       "47 2013-04-01  Holiday  Regional    Cotopaxi  Provincializacion de Cotopaxi   \n",
       "\n",
       "    transferred  \n",
       "47        False  "
      ]
     },
     "execution_count": 76,
     "metadata": {},
     "output_type": "execute_result"
    }
   ],
   "source": [
    "holidays_df.loc[holidays_df['date']==chk.head()['date'].iloc[0]].head()"
   ]
  },
  {
   "cell_type": "markdown",
   "metadata": {},
   "source": [
    "##### State holidays"
   ]
  },
  {
   "cell_type": "code",
   "execution_count": 72,
   "metadata": {
    "collapsed": true
   },
   "outputs": [],
   "source": [
    "joined=join_df(joined, state_holidays_df, ['date', 'state'])"
   ]
  },
  {
   "cell_type": "code",
   "execution_count": 73,
   "metadata": {
    "collapsed": true
   },
   "outputs": [],
   "source": [
    "fillna_with_zeros(joined, 'state_hol')"
   ]
  },
  {
   "cell_type": "code",
   "execution_count": 74,
   "metadata": {},
   "outputs": [
    {
     "data": {
      "text/html": [
       "<div>\n",
       "<style>\n",
       "    .dataframe thead tr:only-child th {\n",
       "        text-align: right;\n",
       "    }\n",
       "\n",
       "    .dataframe thead th {\n",
       "        text-align: left;\n",
       "    }\n",
       "\n",
       "    .dataframe tbody tr th {\n",
       "        vertical-align: top;\n",
       "    }\n",
       "</style>\n",
       "<table border=\"1\" class=\"dataframe\">\n",
       "  <thead>\n",
       "    <tr style=\"text-align: right;\">\n",
       "      <th></th>\n",
       "      <th>date</th>\n",
       "      <th>type</th>\n",
       "      <th>locale</th>\n",
       "      <th>locale_name</th>\n",
       "      <th>description</th>\n",
       "      <th>transferred</th>\n",
       "    </tr>\n",
       "  </thead>\n",
       "  <tbody>\n",
       "    <tr>\n",
       "      <th>47</th>\n",
       "      <td>2013-04-01</td>\n",
       "      <td>Holiday</td>\n",
       "      <td>Regional</td>\n",
       "      <td>Cotopaxi</td>\n",
       "      <td>Provincializacion de Cotopaxi</td>\n",
       "      <td>False</td>\n",
       "    </tr>\n",
       "  </tbody>\n",
       "</table>\n",
       "</div>"
      ],
      "text/plain": [
       "         date     type    locale locale_name                    description  \\\n",
       "47 2013-04-01  Holiday  Regional    Cotopaxi  Provincializacion de Cotopaxi   \n",
       "\n",
       "    transferred  \n",
       "47        False  "
      ]
     },
     "execution_count": 74,
     "metadata": {},
     "output_type": "execute_result"
    }
   ],
   "source": [
    "chk = joined.loc[joined['state_hol']==1]\n",
    "holidays_df.loc[holidays_df['date']==chk.head()['date'].iloc[0]].head()"
   ]
  },
  {
   "cell_type": "code",
   "execution_count": 77,
   "metadata": {
    "collapsed": true
   },
   "outputs": [
    {
     "data": {
      "text/html": [
       "<div>\n",
       "<style>\n",
       "    .dataframe thead tr:only-child th {\n",
       "        text-align: right;\n",
       "    }\n",
       "\n",
       "    .dataframe thead th {\n",
       "        text-align: left;\n",
       "    }\n",
       "\n",
       "    .dataframe tbody tr th {\n",
       "        vertical-align: top;\n",
       "    }\n",
       "</style>\n",
       "<table border=\"1\" class=\"dataframe\">\n",
       "  <thead>\n",
       "    <tr style=\"text-align: right;\">\n",
       "      <th></th>\n",
       "      <th>state</th>\n",
       "    </tr>\n",
       "  </thead>\n",
       "  <tbody>\n",
       "    <tr>\n",
       "      <th>0</th>\n",
       "      <td>Pichincha</td>\n",
       "    </tr>\n",
       "    <tr>\n",
       "      <th>4</th>\n",
       "      <td>Santo Domingo de los Tsachilas</td>\n",
       "    </tr>\n",
       "    <tr>\n",
       "      <th>11</th>\n",
       "      <td>Cotopaxi</td>\n",
       "    </tr>\n",
       "    <tr>\n",
       "      <th>13</th>\n",
       "      <td>Chimborazo</td>\n",
       "    </tr>\n",
       "    <tr>\n",
       "      <th>14</th>\n",
       "      <td>Imbabura</td>\n",
       "    </tr>\n",
       "    <tr>\n",
       "      <th>18</th>\n",
       "      <td>Bolivar</td>\n",
       "    </tr>\n",
       "    <tr>\n",
       "      <th>21</th>\n",
       "      <td>Pastaza</td>\n",
       "    </tr>\n",
       "    <tr>\n",
       "      <th>22</th>\n",
       "      <td>Tungurahua</td>\n",
       "    </tr>\n",
       "    <tr>\n",
       "      <th>23</th>\n",
       "      <td>Guayas</td>\n",
       "    </tr>\n",
       "    <tr>\n",
       "      <th>24</th>\n",
       "      <td>Santa Elena</td>\n",
       "    </tr>\n",
       "    <tr>\n",
       "      <th>30</th>\n",
       "      <td>Los Rios</td>\n",
       "    </tr>\n",
       "    <tr>\n",
       "      <th>36</th>\n",
       "      <td>Azuay</td>\n",
       "    </tr>\n",
       "    <tr>\n",
       "      <th>37</th>\n",
       "      <td>Loja</td>\n",
       "    </tr>\n",
       "    <tr>\n",
       "      <th>39</th>\n",
       "      <td>El Oro</td>\n",
       "    </tr>\n",
       "    <tr>\n",
       "      <th>42</th>\n",
       "      <td>Esmeraldas</td>\n",
       "    </tr>\n",
       "    <tr>\n",
       "      <th>51</th>\n",
       "      <td>Manabi</td>\n",
       "    </tr>\n",
       "  </tbody>\n",
       "</table>\n",
       "</div>"
      ],
      "text/plain": [
       "                             state\n",
       "0                        Pichincha\n",
       "4   Santo Domingo de los Tsachilas\n",
       "11                        Cotopaxi\n",
       "13                      Chimborazo\n",
       "14                        Imbabura\n",
       "18                         Bolivar\n",
       "21                         Pastaza\n",
       "22                      Tungurahua\n",
       "23                          Guayas\n",
       "24                     Santa Elena\n",
       "30                        Los Rios\n",
       "36                           Azuay\n",
       "37                            Loja\n",
       "39                          El Oro\n",
       "42                      Esmeraldas\n",
       "51                          Manabi"
      ]
     },
     "execution_count": 77,
     "metadata": {},
     "output_type": "execute_result"
    }
   ],
   "source": [
    "stores_df[['state']].drop_duplicates()"
   ]
  },
  {
   "cell_type": "markdown",
   "metadata": {},
   "source": [
    "##### Nat holidays and events"
   ]
  },
  {
   "cell_type": "code",
   "execution_count": 78,
   "metadata": {
    "collapsed": true
   },
   "outputs": [],
   "source": [
    "joined=join_df(joined, nat_holidays_df, 'date')\n",
    "joined=join_df(joined, nat_events_df, 'date')"
   ]
  },
  {
   "cell_type": "code",
   "execution_count": 79,
   "metadata": {
    "collapsed": true
   },
   "outputs": [],
   "source": [
    "fillna_with_zeros(joined, 'nat_hol')\n",
    "fillna_with_zeros(joined, 'nat_event')"
   ]
  },
  {
   "cell_type": "code",
   "execution_count": 80,
   "metadata": {},
   "outputs": [
    {
     "data": {
      "text/html": [
       "<div>\n",
       "<style>\n",
       "    .dataframe thead tr:only-child th {\n",
       "        text-align: right;\n",
       "    }\n",
       "\n",
       "    .dataframe thead th {\n",
       "        text-align: left;\n",
       "    }\n",
       "\n",
       "    .dataframe tbody tr th {\n",
       "        vertical-align: top;\n",
       "    }\n",
       "</style>\n",
       "<table border=\"1\" class=\"dataframe\">\n",
       "  <thead>\n",
       "    <tr style=\"text-align: right;\">\n",
       "      <th></th>\n",
       "      <th>date</th>\n",
       "      <th>item_nbr</th>\n",
       "      <th>onpromotion</th>\n",
       "      <th>store_nbr</th>\n",
       "      <th>unit_sales</th>\n",
       "      <th>year</th>\n",
       "      <th>month</th>\n",
       "      <th>week</th>\n",
       "      <th>day</th>\n",
       "      <th>dayofweek</th>\n",
       "      <th>...</th>\n",
       "      <th>type</th>\n",
       "      <th>cluster</th>\n",
       "      <th>family</th>\n",
       "      <th>class</th>\n",
       "      <th>perishable</th>\n",
       "      <th>transactions</th>\n",
       "      <th>city_hol</th>\n",
       "      <th>state_hol</th>\n",
       "      <th>nat_hol</th>\n",
       "      <th>nat_event</th>\n",
       "    </tr>\n",
       "  </thead>\n",
       "  <tbody>\n",
       "    <tr>\n",
       "      <th>0</th>\n",
       "      <td>2013-01-01</td>\n",
       "      <td>103665</td>\n",
       "      <td>False</td>\n",
       "      <td>25</td>\n",
       "      <td>7.0</td>\n",
       "      <td>2013</td>\n",
       "      <td>1</td>\n",
       "      <td>1</td>\n",
       "      <td>1</td>\n",
       "      <td>1</td>\n",
       "      <td>...</td>\n",
       "      <td>D</td>\n",
       "      <td>1</td>\n",
       "      <td>BREAD/BAKERY</td>\n",
       "      <td>2712</td>\n",
       "      <td>True</td>\n",
       "      <td>770.0</td>\n",
       "      <td>0</td>\n",
       "      <td>0</td>\n",
       "      <td>1</td>\n",
       "      <td>0</td>\n",
       "    </tr>\n",
       "    <tr>\n",
       "      <th>1</th>\n",
       "      <td>2013-01-01</td>\n",
       "      <td>105574</td>\n",
       "      <td>False</td>\n",
       "      <td>25</td>\n",
       "      <td>1.0</td>\n",
       "      <td>2013</td>\n",
       "      <td>1</td>\n",
       "      <td>1</td>\n",
       "      <td>1</td>\n",
       "      <td>1</td>\n",
       "      <td>...</td>\n",
       "      <td>D</td>\n",
       "      <td>1</td>\n",
       "      <td>GROCERY I</td>\n",
       "      <td>1045</td>\n",
       "      <td>False</td>\n",
       "      <td>770.0</td>\n",
       "      <td>0</td>\n",
       "      <td>0</td>\n",
       "      <td>1</td>\n",
       "      <td>0</td>\n",
       "    </tr>\n",
       "    <tr>\n",
       "      <th>2</th>\n",
       "      <td>2013-01-01</td>\n",
       "      <td>105575</td>\n",
       "      <td>False</td>\n",
       "      <td>25</td>\n",
       "      <td>2.0</td>\n",
       "      <td>2013</td>\n",
       "      <td>1</td>\n",
       "      <td>1</td>\n",
       "      <td>1</td>\n",
       "      <td>1</td>\n",
       "      <td>...</td>\n",
       "      <td>D</td>\n",
       "      <td>1</td>\n",
       "      <td>GROCERY I</td>\n",
       "      <td>1045</td>\n",
       "      <td>False</td>\n",
       "      <td>770.0</td>\n",
       "      <td>0</td>\n",
       "      <td>0</td>\n",
       "      <td>1</td>\n",
       "      <td>0</td>\n",
       "    </tr>\n",
       "    <tr>\n",
       "      <th>3</th>\n",
       "      <td>2013-01-01</td>\n",
       "      <td>108079</td>\n",
       "      <td>False</td>\n",
       "      <td>25</td>\n",
       "      <td>1.0</td>\n",
       "      <td>2013</td>\n",
       "      <td>1</td>\n",
       "      <td>1</td>\n",
       "      <td>1</td>\n",
       "      <td>1</td>\n",
       "      <td>...</td>\n",
       "      <td>D</td>\n",
       "      <td>1</td>\n",
       "      <td>GROCERY I</td>\n",
       "      <td>1030</td>\n",
       "      <td>False</td>\n",
       "      <td>770.0</td>\n",
       "      <td>0</td>\n",
       "      <td>0</td>\n",
       "      <td>1</td>\n",
       "      <td>0</td>\n",
       "    </tr>\n",
       "    <tr>\n",
       "      <th>4</th>\n",
       "      <td>2013-01-01</td>\n",
       "      <td>108701</td>\n",
       "      <td>False</td>\n",
       "      <td>25</td>\n",
       "      <td>1.0</td>\n",
       "      <td>2013</td>\n",
       "      <td>1</td>\n",
       "      <td>1</td>\n",
       "      <td>1</td>\n",
       "      <td>1</td>\n",
       "      <td>...</td>\n",
       "      <td>D</td>\n",
       "      <td>1</td>\n",
       "      <td>DELI</td>\n",
       "      <td>2644</td>\n",
       "      <td>True</td>\n",
       "      <td>770.0</td>\n",
       "      <td>0</td>\n",
       "      <td>0</td>\n",
       "      <td>1</td>\n",
       "      <td>0</td>\n",
       "    </tr>\n",
       "  </tbody>\n",
       "</table>\n",
       "<p>5 rows × 23 columns</p>\n",
       "</div>"
      ],
      "text/plain": [
       "        date  item_nbr  onpromotion  store_nbr  unit_sales  year  month  week  \\\n",
       "0 2013-01-01    103665        False         25         7.0  2013      1     1   \n",
       "1 2013-01-01    105574        False         25         1.0  2013      1     1   \n",
       "2 2013-01-01    105575        False         25         2.0  2013      1     1   \n",
       "3 2013-01-01    108079        False         25         1.0  2013      1     1   \n",
       "4 2013-01-01    108701        False         25         1.0  2013      1     1   \n",
       "\n",
       "   day  dayofweek    ...      type cluster        family class  perishable  \\\n",
       "0    1          1    ...         D       1  BREAD/BAKERY  2712        True   \n",
       "1    1          1    ...         D       1     GROCERY I  1045       False   \n",
       "2    1          1    ...         D       1     GROCERY I  1045       False   \n",
       "3    1          1    ...         D       1     GROCERY I  1030       False   \n",
       "4    1          1    ...         D       1          DELI  2644        True   \n",
       "\n",
       "  transactions  city_hol  state_hol  nat_hol  nat_event  \n",
       "0        770.0         0          0        1          0  \n",
       "1        770.0         0          0        1          0  \n",
       "2        770.0         0          0        1          0  \n",
       "3        770.0         0          0        1          0  \n",
       "4        770.0         0          0        1          0  \n",
       "\n",
       "[5 rows x 23 columns]"
      ]
     },
     "execution_count": 80,
     "metadata": {},
     "output_type": "execute_result"
    }
   ],
   "source": [
    "chk = joined.loc[joined['nat_hol']==1].head(); chk"
   ]
  },
  {
   "cell_type": "code",
   "execution_count": 81,
   "metadata": {},
   "outputs": [
    {
     "data": {
      "text/html": [
       "<div>\n",
       "<style>\n",
       "    .dataframe thead tr:only-child th {\n",
       "        text-align: right;\n",
       "    }\n",
       "\n",
       "    .dataframe thead th {\n",
       "        text-align: left;\n",
       "    }\n",
       "\n",
       "    .dataframe tbody tr th {\n",
       "        vertical-align: top;\n",
       "    }\n",
       "</style>\n",
       "<table border=\"1\" class=\"dataframe\">\n",
       "  <thead>\n",
       "    <tr style=\"text-align: right;\">\n",
       "      <th></th>\n",
       "      <th>date</th>\n",
       "      <th>type</th>\n",
       "      <th>locale</th>\n",
       "      <th>locale_name</th>\n",
       "      <th>description</th>\n",
       "      <th>transferred</th>\n",
       "    </tr>\n",
       "  </thead>\n",
       "  <tbody>\n",
       "    <tr>\n",
       "      <th>41</th>\n",
       "      <td>2013-01-01</td>\n",
       "      <td>Holiday</td>\n",
       "      <td>National</td>\n",
       "      <td>Ecuador</td>\n",
       "      <td>Primer dia del ano</td>\n",
       "      <td>False</td>\n",
       "    </tr>\n",
       "  </tbody>\n",
       "</table>\n",
       "</div>"
      ],
      "text/plain": [
       "         date     type    locale locale_name         description  transferred\n",
       "41 2013-01-01  Holiday  National     Ecuador  Primer dia del ano        False"
      ]
     },
     "execution_count": 81,
     "metadata": {},
     "output_type": "execute_result"
    }
   ],
   "source": [
    "holidays_df.loc[holidays_df['date']==chk.head()['date'].iloc[0]].head()"
   ]
  },
  {
   "cell_type": "code",
   "execution_count": 82,
   "metadata": {},
   "outputs": [
    {
     "data": {
      "text/html": [
       "<div>\n",
       "<style>\n",
       "    .dataframe thead tr:only-child th {\n",
       "        text-align: right;\n",
       "    }\n",
       "\n",
       "    .dataframe thead th {\n",
       "        text-align: left;\n",
       "    }\n",
       "\n",
       "    .dataframe tbody tr th {\n",
       "        vertical-align: top;\n",
       "    }\n",
       "</style>\n",
       "<table border=\"1\" class=\"dataframe\">\n",
       "  <thead>\n",
       "    <tr style=\"text-align: right;\">\n",
       "      <th></th>\n",
       "      <th>date</th>\n",
       "      <th>type</th>\n",
       "      <th>locale</th>\n",
       "      <th>locale_name</th>\n",
       "      <th>description</th>\n",
       "      <th>transferred</th>\n",
       "    </tr>\n",
       "  </thead>\n",
       "  <tbody>\n",
       "    <tr>\n",
       "      <th>54</th>\n",
       "      <td>2013-05-12</td>\n",
       "      <td>Holiday</td>\n",
       "      <td>Local</td>\n",
       "      <td>Puyo</td>\n",
       "      <td>Cantonizacion del Puyo</td>\n",
       "      <td>False</td>\n",
       "    </tr>\n",
       "    <tr>\n",
       "      <th>55</th>\n",
       "      <td>2013-05-12</td>\n",
       "      <td>Event</td>\n",
       "      <td>National</td>\n",
       "      <td>Ecuador</td>\n",
       "      <td>Dia de la Madre</td>\n",
       "      <td>False</td>\n",
       "    </tr>\n",
       "  </tbody>\n",
       "</table>\n",
       "</div>"
      ],
      "text/plain": [
       "         date     type    locale locale_name             description  \\\n",
       "54 2013-05-12  Holiday     Local        Puyo  Cantonizacion del Puyo   \n",
       "55 2013-05-12    Event  National     Ecuador         Dia de la Madre   \n",
       "\n",
       "    transferred  \n",
       "54        False  \n",
       "55        False  "
      ]
     },
     "execution_count": 82,
     "metadata": {},
     "output_type": "execute_result"
    }
   ],
   "source": [
    "#Have to run later, no national events in training set\n",
    "chk = joined.loc[joined['nat_event']==1].head()\n",
    "holidays_df.loc[holidays_df['date']==chk.head()['date'].iloc[0]].head()"
   ]
  },
  {
   "cell_type": "code",
   "execution_count": 83,
   "metadata": {},
   "outputs": [
    {
     "data": {
      "text/plain": [
       "True"
      ]
     },
     "execution_count": 83,
     "metadata": {},
     "output_type": "execute_result"
    }
   ],
   "source": [
    "save_n_load_df(joined, 'joined_holidays.pkl')"
   ]
  },
  {
   "cell_type": "markdown",
   "metadata": {},
   "source": [
    "### Calculate time durations"
   ]
  },
  {
   "cell_type": "markdown",
   "metadata": {},
   "source": [
    "#### 30-day percentage oil change"
   ]
  },
  {
   "cell_type": "code",
   "execution_count": 84,
   "metadata": {},
   "outputs": [
    {
     "data": {
      "text/plain": [
       "Timestamp('2013-01-01 00:00:00')"
      ]
     },
     "execution_count": 84,
     "metadata": {},
     "output_type": "execute_result"
    }
   ],
   "source": [
    "dates=joined['date'].drop_duplicates(); dates[0]"
   ]
  },
  {
   "cell_type": "code",
   "execution_count": 87,
   "metadata": {},
   "outputs": [
    {
     "data": {
      "text/plain": [
       "<matplotlib.axes._subplots.AxesSubplot at 0x7f6f9436f0b8>"
      ]
     },
     "execution_count": 87,
     "metadata": {},
     "output_type": "execute_result"
    },
    {
     "data": {
      "image/png": "[encoded data removed]",
      "text/plain": [
       "<matplotlib.figure.Figure at 0x7f6fa3c395c0>"
      ]
     },
     "metadata": {},
     "output_type": "display_data"
    }
   ],
   "source": [
    "oil_prices = joined[['date', 'dcoilwtico']].copy().drop_duplicates(['date']).reset_index(drop=True)\n",
    "oil_prices['oil_30_day_change'] = oil_prices['dcoilwtico'].pct_change(periods=30).fillna(method='bfill')\n",
    "oil_prices[['date', 'oil_30_day_change']].plot()"
   ]
  },
  {
   "cell_type": "code",
   "execution_count": 88,
   "metadata": {
    "collapsed": true
   },
   "outputs": [],
   "source": [
    "oil_prices.drop(labels='dcoilwtico', axis=1, inplace=True)"
   ]
  },
  {
   "cell_type": "code",
   "execution_count": 89,
   "metadata": {
    "collapsed": true
   },
   "outputs": [],
   "source": [
    "joined=join_df(joined, oil_prices, 'date')"
   ]
  },
  {
   "cell_type": "code",
   "execution_count": 90,
   "metadata": {},
   "outputs": [
    {
     "data": {
      "text/plain": [
       "True"
      ]
     },
     "execution_count": 90,
     "metadata": {},
     "output_type": "execute_result"
    }
   ],
   "source": [
    "save_n_load_df(joined, 'joined_30_day_oil.pkl')"
   ]
  },
  {
   "cell_type": "markdown",
   "metadata": {},
   "source": [
    "#### Elapsed since events"
   ]
  },
  {
   "cell_type": "code",
   "execution_count": 92,
   "metadata": {
    "collapsed": true
   },
   "outputs": [],
   "source": [
    "# joined = load_df('joined_30_day_oil.pkl')"
   ]
  },
  {
   "cell_type": "code",
   "execution_count": 93,
   "metadata": {
    "collapsed": true
   },
   "outputs": [],
   "source": [
    "columns=['date', 'store_nbr', 'state_hol', 'city_hol', 'nat_hol', 'nat_event']"
   ]
  },
  {
   "cell_type": "code",
   "execution_count": 94,
   "metadata": {
    "collapsed": true
   },
   "outputs": [],
   "source": [
    "#clean up, using last_store and store_nbr\n",
    "class elapsed(object):\n",
    "    def __init__(self, fld):\n",
    "        self.fld = fld\n",
    "        self.last = pd.to_datetime(np.nan)\n",
    "        self.last_store = 0\n",
    "        \n",
    "    def get(self, row):\n",
    "        if row.store_nbr != self.last_store:\n",
    "            self.last = pd.to_datetime(np.nan)\n",
    "            self.last_store = row.store_nbr\n",
    "        if (row[self.fld]): self.last = row.date\n",
    "        return row.date-self.last\n",
    "\n",
    "def add_elapsed(fld, prefix):\n",
    "    sh_el = elapsed(fld)\n",
    "    df[prefix+fld] = df.apply(sh_el.get, axis=1)"
   ]
  },
  {
   "cell_type": "code",
   "execution_count": 95,
   "metadata": {
    "collapsed": true
   },
   "outputs": [],
   "source": [
    "df=joined[columns].copy()\n",
    "df.drop_duplicates(inplace=True)"
   ]
  },
  {
   "cell_type": "markdown",
   "metadata": {},
   "source": [
    "## Begin samp test to see if this code works"
   ]
  },
  {
   "cell_type": "markdown",
   "metadata": {
    "collapsed": true
   },
   "source": [
    "def add_elapsed_samp(fld, prefix):\n",
    "    sh_el = elapsed(fld)\n",
    "    samp[prefix+fld] = samp.apply(sh_el.get, axis=1)"
   ]
  },
  {
   "cell_type": "markdown",
   "metadata": {
    "collapsed": true
   },
   "source": [
    "samp=pd.concat([df[0:5]]*5).reset_index(drop=True)\n",
    "samp.iloc[5:10]['date'] = samp.iloc[0].date + pd.DateOffset(1)\n",
    "samp.iloc[10:15]['date'] = samp.iloc[0].date + pd.DateOffset(2)\n",
    "samp.iloc[15:20]['date'] = samp.iloc[0].date + pd.DateOffset(3)\n",
    "samp.iloc[20:25]['date'] = samp.iloc[0].date + pd.DateOffset(4)\n",
    "samp=samp.sort_values(['store_nbr', 'date'])\n",
    "samp.set_value(10, 'state_hol', 1)\n",
    "samp.set_value(12, 'city_hol', 1)\n",
    "samp.set_value(17, 'city_hol', 1)\n",
    "samp.set_value(22, 'city_hol', 1)\n",
    "samp.set_value(6, 'nat_hol', 1)\n",
    "samp.set_value(13, 'nat_event', 1)"
   ]
  },
  {
   "cell_type": "markdown",
   "metadata": {
    "collapsed": true
   },
   "source": [
    "for fld in holidays:\n",
    "    add_elapsed_samp(fld, 'after_')\n",
    "samp = samp.sort_values(['store_nbr', 'date'], ascending=[True, False])\n",
    "for fld in holidays:\n",
    "    add_elapsed_samp(fld, 'before_')\n",
    "hol_dur = [o+p for o in ['before_', 'after_'] for p in holidays]\n",
    "for a in hol_dur:\n",
    "    samp[a]=samp[a].fillna(pd.Timedelta(0)).dt.days\n",
    "samp"
   ]
  },
  {
   "cell_type": "markdown",
   "metadata": {
    "collapsed": true
   },
   "source": [
    "samp = samp.set_index('date')"
   ]
  },
  {
   "cell_type": "markdown",
   "metadata": {
    "collapsed": true
   },
   "source": [
    "bwd = samp[['store_nbr']+ holidays].sort_index().groupby('store_nbr').rolling(7, min_periods=1).sum()\n",
    "fwd = samp[['store_nbr']+ holidays].sort_index(ascending=False).groupby('store_nbr').rolling(7, min_periods=1).sum()"
   ]
  },
  {
   "cell_type": "markdown",
   "metadata": {
    "collapsed": true
   },
   "source": [
    "bwd"
   ]
  },
  {
   "cell_type": "markdown",
   "metadata": {
    "collapsed": true
   },
   "source": [
    "bwd.drop('store_nbr', 1, inplace=True)\n",
    "bwd.reset_index(inplace=True)\n",
    "fwd.drop('store_nbr', 1, inplace=True)\n",
    "fwd.reset_index(inplace=True)"
   ]
  },
  {
   "cell_type": "markdown",
   "metadata": {
    "collapsed": true
   },
   "source": [
    "samp.reset_index(inplace=True)\n",
    "samp=samp.merge(bwd, 'left', ['date', 'store_nbr'], suffixes=['', '_bw'])\n",
    "samp=samp.merge(fwd, 'left', ['date', 'store_nbr'], suffixes=['', '_fw'])"
   ]
  },
  {
   "cell_type": "markdown",
   "metadata": {
    "collapsed": true
   },
   "source": [
    "samp[['date','store_nbr', 'city_hol', 'city_hol_fw']]"
   ]
  },
  {
   "cell_type": "markdown",
   "metadata": {},
   "source": [
    "## End samp test, seems fine"
   ]
  },
  {
   "cell_type": "markdown",
   "metadata": {},
   "source": [
    "fld='state_hol'\n",
    "df=df.sort_values(['store_nbr', 'date'])\n",
    "add_elapsed(fld, 'after')\n",
    "#df=df.sort_values(['store_nbr', 'date'], ascending=[True, False])\n",
    "#add_elapsed(fld, 'before')"
   ]
  },
  {
   "cell_type": "code",
   "execution_count": 96,
   "metadata": {
    "collapsed": true
   },
   "outputs": [],
   "source": [
    "holidays=['state_hol', 'city_hol', 'nat_hol', 'nat_event']"
   ]
  },
  {
   "cell_type": "code",
   "execution_count": 97,
   "metadata": {
    "collapsed": true
   },
   "outputs": [],
   "source": [
    "df=df.sort_values(['store_nbr', 'date'])"
   ]
  },
  {
   "cell_type": "code",
   "execution_count": 98,
   "metadata": {},
   "outputs": [
    {
     "name": "stderr",
     "output_type": "stream",
     "text": [
      "100%|██████████| 4/4 [00:42<00:00, 10.79s/it]\n"
     ]
    }
   ],
   "source": [
    "for fld in tqdm(holidays):\n",
    "    add_elapsed(fld, 'after_')"
   ]
  },
  {
   "cell_type": "code",
   "execution_count": 99,
   "metadata": {
    "collapsed": true
   },
   "outputs": [],
   "source": [
    "df=df.sort_values(['store_nbr', 'date'], ascending=[True, False])"
   ]
  },
  {
   "cell_type": "code",
   "execution_count": 100,
   "metadata": {},
   "outputs": [
    {
     "name": "stderr",
     "output_type": "stream",
     "text": [
      "100%|██████████| 4/4 [00:49<00:00, 12.34s/it]\n"
     ]
    }
   ],
   "source": [
    "for fld in tqdm(holidays):\n",
    "    add_elapsed(fld, 'before_')"
   ]
  },
  {
   "cell_type": "code",
   "execution_count": 101,
   "metadata": {},
   "outputs": [
    {
     "data": {
      "text/plain": [
       "True"
      ]
     },
     "execution_count": 101,
     "metadata": {},
     "output_type": "execute_result"
    }
   ],
   "source": [
    "save_n_load_df(df, 'elapsed_events_df.pkl')"
   ]
  },
  {
   "cell_type": "code",
   "execution_count": 327,
   "metadata": {
    "collapsed": true
   },
   "outputs": [],
   "source": [
    "# df=load_df('elapsed_events_df.pkl')"
   ]
  },
  {
   "cell_type": "code",
   "execution_count": 102,
   "metadata": {
    "collapsed": true
   },
   "outputs": [],
   "source": [
    "hol_dur = [o+p for o in ['before_', 'after_'] for p in holidays]"
   ]
  },
  {
   "cell_type": "code",
   "execution_count": 329,
   "metadata": {
    "collapsed": true
   },
   "outputs": [],
   "source": [
    "#since there are no nat_event\n",
    "#don't run on full dataframe later!!!!\n",
    "# df['after_nat_event']=pd.Series([0 for x in range(len(df.index))], index=df.index)\n",
    "# df['before_nat_event']=pd.Series([0 for x in range(len(df.index))], index=df.index)\n",
    "# hol_dur.remove('after_nat_event')\n",
    "# hol_dur.remove('before_nat_event')"
   ]
  },
  {
   "cell_type": "code",
   "execution_count": 103,
   "metadata": {
    "scrolled": true
   },
   "outputs": [
    {
     "name": "stderr",
     "output_type": "stream",
     "text": [
      "100%|██████████| 8/8 [00:04<00:00,  1.61it/s]\n"
     ]
    }
   ],
   "source": [
    "for a in tqdm(hol_dur):\n",
    "    df[a]=df[a].fillna(pd.Timedelta(0)).dt.days"
   ]
  },
  {
   "cell_type": "code",
   "execution_count": 104,
   "metadata": {},
   "outputs": [
    {
     "data": {
      "text/plain": [
       "True"
      ]
     },
     "execution_count": 104,
     "metadata": {},
     "output_type": "execute_result"
    }
   ],
   "source": [
    "save_n_load_df(df, 'filled_elapsed_events_df.pkl')"
   ]
  },
  {
   "cell_type": "markdown",
   "metadata": {},
   "source": [
    "##### Now rolling windows"
   ]
  },
  {
   "cell_type": "code",
   "execution_count": 333,
   "metadata": {
    "collapsed": true
   },
   "outputs": [],
   "source": [
    "# df = load_df('filled_elapsed_events_df.pkl')"
   ]
  },
  {
   "cell_type": "code",
   "execution_count": 105,
   "metadata": {
    "collapsed": true
   },
   "outputs": [],
   "source": [
    "df=df.set_index('date')"
   ]
  },
  {
   "cell_type": "code",
   "execution_count": 106,
   "metadata": {
    "collapsed": true
   },
   "outputs": [],
   "source": [
    "bwd = df[['store_nbr']+ holidays].sort_index().groupby('store_nbr').rolling(7, min_periods=1).sum()\n",
    "fwd = df[['store_nbr']+ holidays].sort_index(ascending=False).groupby('store_nbr').rolling(7, min_periods=1).sum()"
   ]
  },
  {
   "cell_type": "code",
   "execution_count": 107,
   "metadata": {
    "collapsed": true
   },
   "outputs": [],
   "source": [
    "bwd.drop('store_nbr', 1, inplace=True)\n",
    "bwd.reset_index(inplace=True)\n",
    "fwd.drop('store_nbr', 1, inplace=True)\n",
    "fwd.reset_index(inplace=True)"
   ]
  },
  {
   "cell_type": "code",
   "execution_count": 108,
   "metadata": {
    "collapsed": true
   },
   "outputs": [],
   "source": [
    "df.reset_index(inplace=True)\n",
    "df=df.merge(bwd, 'left', ['date', 'store_nbr'], suffixes=['', '_bw'])\n",
    "df=df.merge(fwd, 'left', ['date', 'store_nbr'], suffixes=['', '_fw'])"
   ]
  },
  {
   "cell_type": "code",
   "execution_count": 109,
   "metadata": {
    "collapsed": true
   },
   "outputs": [],
   "source": [
    "df.drop(holidays, 1, inplace=True)"
   ]
  },
  {
   "cell_type": "code",
   "execution_count": 110,
   "metadata": {},
   "outputs": [
    {
     "data": {
      "text/plain": [
       "True"
      ]
     },
     "execution_count": 110,
     "metadata": {},
     "output_type": "execute_result"
    }
   ],
   "source": [
    "save_n_load_df(df, 'rolled_filled_elapsed_events_df.pkl')"
   ]
  },
  {
   "cell_type": "code",
   "execution_count": 111,
   "metadata": {
    "collapsed": true
   },
   "outputs": [
    {
     "name": "stdout",
     "output_type": "stream",
     "text": [
      "<class 'pandas.core.frame.DataFrame'>\n",
      "Int64Index: 84470 entries, 0 to 84469\n",
      "Data columns (total 18 columns):\n",
      "date                84470 non-null datetime64[ns]\n",
      "store_nbr           84470 non-null uint8\n",
      "after_state_hol     84470 non-null int64\n",
      "after_city_hol      84470 non-null int64\n",
      "after_nat_hol       84470 non-null int64\n",
      "after_nat_event     84470 non-null int64\n",
      "before_state_hol    84470 non-null int64\n",
      "before_city_hol     84470 non-null int64\n",
      "before_nat_hol      84470 non-null int64\n",
      "before_nat_event    84470 non-null int64\n",
      "state_hol_bw        84470 non-null float64\n",
      "city_hol_bw         84470 non-null float64\n",
      "nat_hol_bw          84470 non-null float64\n",
      "nat_event_bw        84470 non-null float64\n",
      "state_hol_fw        84470 non-null float64\n",
      "city_hol_fw         84470 non-null float64\n",
      "nat_hol_fw          84470 non-null float64\n",
      "nat_event_fw        84470 non-null float64\n",
      "dtypes: datetime64[ns](1), float64(8), int64(8), uint8(1)\n",
      "memory usage: 11.7 MB\n"
     ]
    }
   ],
   "source": [
    "# df=load_df('rolled_filled_elapsed_events_df.pkl')\n",
    "df.info()"
   ]
  },
  {
   "cell_type": "markdown",
   "metadata": {},
   "source": [
    "##### Cleanup to save memory on merge"
   ]
  },
  {
   "cell_type": "code",
   "execution_count": 112,
   "metadata": {
    "collapsed": true
   },
   "outputs": [],
   "source": [
    "cols=df.columns.tolist()\n",
    "cols.remove('date')\n",
    "cols.remove('store_nbr')"
   ]
  },
  {
   "cell_type": "code",
   "execution_count": 113,
   "metadata": {
    "collapsed": true
   },
   "outputs": [
    {
     "name": "stdout",
     "output_type": "stream",
     "text": [
      "<class 'pandas.core.frame.DataFrame'>\n",
      "Int64Index: 84470 entries, 0 to 84469\n",
      "Data columns (total 18 columns):\n",
      "date                84470 non-null datetime64[ns]\n",
      "store_nbr           84470 non-null uint8\n",
      "after_state_hol     84470 non-null int16\n",
      "after_city_hol      84470 non-null int16\n",
      "after_nat_hol       84470 non-null int16\n",
      "after_nat_event     84470 non-null int16\n",
      "before_state_hol    84470 non-null int16\n",
      "before_city_hol     84470 non-null int16\n",
      "before_nat_hol      84470 non-null int16\n",
      "before_nat_event    84470 non-null int16\n",
      "state_hol_bw        84470 non-null int16\n",
      "city_hol_bw         84470 non-null int16\n",
      "nat_hol_bw          84470 non-null int16\n",
      "nat_event_bw        84470 non-null int16\n",
      "state_hol_fw        84470 non-null int16\n",
      "city_hol_fw         84470 non-null int16\n",
      "nat_hol_fw          84470 non-null int16\n",
      "nat_event_fw        84470 non-null int16\n",
      "dtypes: datetime64[ns](1), int16(16), uint8(1)\n",
      "memory usage: 3.9 MB\n"
     ]
    }
   ],
   "source": [
    "for c in cols: df[c]=df[c].astype(np.int16)\n",
    "df.info()"
   ]
  },
  {
   "cell_type": "code",
   "execution_count": 114,
   "metadata": {
    "collapsed": true
   },
   "outputs": [],
   "source": [
    "joined=join_df(joined, df, ['date', 'store_nbr'])"
   ]
  },
  {
   "cell_type": "code",
   "execution_count": 115,
   "metadata": {},
   "outputs": [
    {
     "data": {
      "text/plain": [
       "True"
      ]
     },
     "execution_count": 115,
     "metadata": {},
     "output_type": "execute_result"
    }
   ],
   "source": [
    "save_n_load_df(joined, 'joined_elapsed_events.pkl')"
   ]
  },
  {
   "cell_type": "code",
   "execution_count": 117,
   "metadata": {},
   "outputs": [
    {
     "data": {
      "text/plain": [
       "False    121027360\n",
       "True       8026704\n",
       "Name: onpromotion, dtype: int64"
      ]
     },
     "execution_count": 117,
     "metadata": {},
     "output_type": "execute_result"
    }
   ],
   "source": [
    "joined['onpromotion'].value_counts()"
   ]
  },
  {
   "cell_type": "markdown",
   "metadata": {},
   "source": [
    "#### Promotion durations\n",
    "Promotions are unique to date, item and store"
   ]
  },
  {
   "cell_type": "code",
   "execution_count": 3,
   "metadata": {
    "collapsed": true
   },
   "outputs": [],
   "source": [
    "joined=load_df('joined_elapsed_events.pkl')"
   ]
  },
  {
   "cell_type": "code",
   "execution_count": 4,
   "metadata": {
    "collapsed": true
   },
   "outputs": [],
   "source": [
    "promo_df = joined[['date', 'item_nbr', 'store_nbr', 'onpromotion']].copy()"
   ]
  },
  {
   "cell_type": "code",
   "execution_count": 5,
   "metadata": {
    "collapsed": true
   },
   "outputs": [],
   "source": [
    "#future - look at ways to speed up or free up memory by deleting objects.\n",
    "class itm_elapsed(object):\n",
    "    def __init__(self, fld, total):\n",
    "        self.fld = fld\n",
    "        self.last = pd.to_datetime(np.nan)\n",
    "        self.last_store_nbr = 0\n",
    "        self.last_item_nbr = 0\n",
    "        self.count=0\n",
    "        self.total=total\n",
    "        \n",
    "    def get(self, row):\n",
    "        self.count+=1\n",
    "        if (not self.count % 1e6):\n",
    "            print('Another 1 million out of {}'.format(self.total))\n",
    "        if (row.item_nbr != self.last_item_nbr) or (row.store_nbr != self.last_store_nbr):\n",
    "            self.last = pd.to_datetime(np.nan)\n",
    "            self.last_item_nbr = row.item_nbr\n",
    "            self.last_store_nbr = row.store_nbr\n",
    "        if (row[self.fld]): self.last = row.date\n",
    "        return row.date-self.last\n",
    "\n",
    "def itm_add_elapsed(fld, prefix):\n",
    "    sh_el = itm_elapsed(fld, total=len(promo_df)//1e6)\n",
    "    promo_df[prefix+fld] = promo_df.apply(sh_el.get, axis=1)"
   ]
  },
  {
   "cell_type": "code",
   "execution_count": 7,
   "metadata": {
    "collapsed": true
   },
   "outputs": [
    {
     "ename": "NameError",
     "evalue": "name 'joined' is not defined",
     "output_type": "error",
     "traceback": [
      "\u001b[0;31m---------------------------------------------------------------------------\u001b[0m",
      "\u001b[0;31mNameError\u001b[0m                                 Traceback (most recent call last)",
      "\u001b[0;32m<ipython-input-7-ae83d0694327>\u001b[0m in \u001b[0;36m<module>\u001b[0;34m()\u001b[0m\n\u001b[0;32m----> 1\u001b[0;31m \u001b[0;32mdel\u001b[0m\u001b[0;34m(\u001b[0m\u001b[0mjoined\u001b[0m\u001b[0;34m)\u001b[0m\u001b[0;34m\u001b[0m\u001b[0m\n\u001b[0m",
      "\u001b[0;31mNameError\u001b[0m: name 'joined' is not defined"
     ]
    }
   ],
   "source": [
    "del(joined)"
   ]
  },
  {
   "cell_type": "code",
   "execution_count": 9,
   "metadata": {
    "collapsed": true
   },
   "outputs": [],
   "source": [
    "promo_df['onpromotion']=promo_df['onpromotion'].astype(np.int8)"
   ]
  },
  {
   "cell_type": "code",
   "execution_count": 11,
   "metadata": {},
   "outputs": [
    {
     "data": {
      "text/plain": [
       "True"
      ]
     },
     "execution_count": 11,
     "metadata": {},
     "output_type": "execute_result"
    }
   ],
   "source": [
    "save_n_load_df(promo_df, 'promo_df1.pkl')"
   ]
  },
  {
   "cell_type": "code",
   "execution_count": 12,
   "metadata": {
    "collapsed": true
   },
   "outputs": [],
   "source": [
    "promo_df.sort_values(['item_nbr','store_nbr', 'date'], inplace=True)"
   ]
  },
  {
   "cell_type": "code",
   "execution_count": 13,
   "metadata": {},
   "outputs": [
    {
     "data": {
      "text/plain": [
       "True"
      ]
     },
     "execution_count": 13,
     "metadata": {},
     "output_type": "execute_result"
    }
   ],
   "source": [
    "save_n_load_df(promo_df, 'promo_df2.pkl')"
   ]
  },
  {
   "cell_type": "code",
   "execution_count": 14,
   "metadata": {
    "collapsed": true
   },
   "outputs": [
    {
     "name": "stdout",
     "output_type": "stream",
     "text": [
      "Another 1 million out of 129.0\n",
      "Another 1 million out of 129.0\n",
      "Another 1 million out of 129.0\n",
      "Another 1 million out of 129.0\n",
      "Another 1 million out of 129.0\n",
      "Another 1 million out of 129.0\n",
      "Another 1 million out of 129.0\n",
      "Another 1 million out of 129.0\n",
      "Another 1 million out of 129.0\n",
      "Another 1 million out of 129.0\n",
      "Another 1 million out of 129.0\n",
      "Another 1 million out of 129.0\n",
      "Another 1 million out of 129.0\n",
      "Another 1 million out of 129.0\n",
      "Another 1 million out of 129.0\n",
      "Another 1 million out of 129.0\n",
      "Another 1 million out of 129.0\n",
      "Another 1 million out of 129.0\n",
      "Another 1 million out of 129.0\n",
      "Another 1 million out of 129.0\n",
      "Another 1 million out of 129.0\n",
      "Another 1 million out of 129.0\n",
      "Another 1 million out of 129.0\n",
      "Another 1 million out of 129.0\n",
      "Another 1 million out of 129.0\n",
      "Another 1 million out of 129.0\n",
      "Another 1 million out of 129.0\n",
      "Another 1 million out of 129.0\n",
      "Another 1 million out of 129.0\n",
      "Another 1 million out of 129.0\n",
      "Another 1 million out of 129.0\n",
      "Another 1 million out of 129.0\n",
      "Another 1 million out of 129.0\n",
      "Another 1 million out of 129.0\n",
      "Another 1 million out of 129.0\n",
      "Another 1 million out of 129.0\n",
      "Another 1 million out of 129.0\n",
      "Another 1 million out of 129.0\n",
      "Another 1 million out of 129.0\n",
      "Another 1 million out of 129.0\n",
      "Another 1 million out of 129.0\n",
      "Another 1 million out of 129.0\n",
      "Another 1 million out of 129.0\n",
      "Another 1 million out of 129.0\n",
      "Another 1 million out of 129.0\n",
      "Another 1 million out of 129.0\n",
      "Another 1 million out of 129.0\n",
      "Another 1 million out of 129.0\n",
      "Another 1 million out of 129.0\n",
      "Another 1 million out of 129.0\n",
      "Another 1 million out of 129.0\n",
      "Another 1 million out of 129.0\n",
      "Another 1 million out of 129.0\n",
      "Another 1 million out of 129.0\n",
      "Another 1 million out of 129.0\n",
      "Another 1 million out of 129.0\n",
      "Another 1 million out of 129.0\n",
      "Another 1 million out of 129.0\n",
      "Another 1 million out of 129.0\n",
      "Another 1 million out of 129.0\n",
      "Another 1 million out of 129.0\n",
      "Another 1 million out of 129.0\n",
      "Another 1 million out of 129.0\n",
      "Another 1 million out of 129.0\n",
      "Another 1 million out of 129.0\n",
      "Another 1 million out of 129.0\n",
      "Another 1 million out of 129.0\n",
      "Another 1 million out of 129.0\n",
      "Another 1 million out of 129.0\n",
      "Another 1 million out of 129.0\n",
      "Another 1 million out of 129.0\n",
      "Another 1 million out of 129.0\n",
      "Another 1 million out of 129.0\n",
      "Another 1 million out of 129.0\n",
      "Another 1 million out of 129.0\n",
      "Another 1 million out of 129.0\n",
      "Another 1 million out of 129.0\n",
      "Another 1 million out of 129.0\n",
      "Another 1 million out of 129.0\n",
      "Another 1 million out of 129.0\n",
      "Another 1 million out of 129.0\n",
      "Another 1 million out of 129.0\n",
      "Another 1 million out of 129.0\n",
      "Another 1 million out of 129.0\n",
      "Another 1 million out of 129.0\n",
      "Another 1 million out of 129.0\n",
      "Another 1 million out of 129.0\n",
      "Another 1 million out of 129.0\n",
      "Another 1 million out of 129.0\n",
      "Another 1 million out of 129.0\n",
      "Another 1 million out of 129.0\n",
      "Another 1 million out of 129.0\n",
      "Another 1 million out of 129.0\n",
      "Another 1 million out of 129.0\n",
      "Another 1 million out of 129.0\n",
      "Another 1 million out of 129.0\n",
      "Another 1 million out of 129.0\n",
      "Another 1 million out of 129.0\n",
      "Another 1 million out of 129.0\n",
      "Another 1 million out of 129.0\n",
      "Another 1 million out of 129.0\n",
      "Another 1 million out of 129.0\n",
      "Another 1 million out of 129.0\n",
      "Another 1 million out of 129.0\n",
      "Another 1 million out of 129.0\n",
      "Another 1 million out of 129.0\n",
      "Another 1 million out of 129.0\n",
      "Another 1 million out of 129.0\n",
      "Another 1 million out of 129.0\n",
      "Another 1 million out of 129.0\n",
      "Another 1 million out of 129.0\n",
      "Another 1 million out of 129.0\n",
      "Another 1 million out of 129.0\n",
      "Another 1 million out of 129.0\n",
      "Another 1 million out of 129.0\n",
      "Another 1 million out of 129.0\n",
      "Another 1 million out of 129.0\n",
      "Another 1 million out of 129.0\n",
      "Another 1 million out of 129.0\n",
      "Another 1 million out of 129.0\n",
      "Another 1 million out of 129.0\n",
      "Another 1 million out of 129.0\n",
      "Another 1 million out of 129.0\n",
      "Another 1 million out of 129.0\n",
      "Another 1 million out of 129.0\n",
      "Another 1 million out of 129.0\n",
      "Another 1 million out of 129.0\n",
      "Another 1 million out of 129.0\n",
      "Another 1 million out of 129.0\n"
     ]
    }
   ],
   "source": [
    "itm_add_elapsed('onpromotion', 'after_')"
   ]
  },
  {
   "cell_type": "code",
   "execution_count": 15,
   "metadata": {},
   "outputs": [
    {
     "data": {
      "text/plain": [
       "True"
      ]
     },
     "execution_count": 15,
     "metadata": {},
     "output_type": "execute_result"
    }
   ],
   "source": [
    "save_n_load_df(promo_df, 'promo_df3.pkl')"
   ]
  },
  {
   "cell_type": "code",
   "execution_count": 16,
   "metadata": {
    "collapsed": true
   },
   "outputs": [],
   "source": [
    "promo_df.sort_values(['item_nbr','store_nbr', 'date'], ascending=[True, True, False], inplace=True)"
   ]
  },
  {
   "cell_type": "code",
   "execution_count": 17,
   "metadata": {},
   "outputs": [
    {
     "data": {
      "text/plain": [
       "True"
      ]
     },
     "execution_count": 17,
     "metadata": {},
     "output_type": "execute_result"
    }
   ],
   "source": [
    "save_n_load_df(promo_df, 'promo_df4.pkl')"
   ]
  },
  {
   "cell_type": "code",
   "execution_count": 18,
   "metadata": {
    "collapsed": true
   },
   "outputs": [
    {
     "name": "stdout",
     "output_type": "stream",
     "text": [
      "Another 1 million out of 129.0\n",
      "Another 1 million out of 129.0\n",
      "Another 1 million out of 129.0\n",
      "Another 1 million out of 129.0\n",
      "Another 1 million out of 129.0\n",
      "Another 1 million out of 129.0\n",
      "Another 1 million out of 129.0\n",
      "Another 1 million out of 129.0\n",
      "Another 1 million out of 129.0\n",
      "Another 1 million out of 129.0\n",
      "Another 1 million out of 129.0\n",
      "Another 1 million out of 129.0\n",
      "Another 1 million out of 129.0\n",
      "Another 1 million out of 129.0\n",
      "Another 1 million out of 129.0\n",
      "Another 1 million out of 129.0\n",
      "Another 1 million out of 129.0\n",
      "Another 1 million out of 129.0\n",
      "Another 1 million out of 129.0\n",
      "Another 1 million out of 129.0\n",
      "Another 1 million out of 129.0\n",
      "Another 1 million out of 129.0\n",
      "Another 1 million out of 129.0\n",
      "Another 1 million out of 129.0\n",
      "Another 1 million out of 129.0\n",
      "Another 1 million out of 129.0\n",
      "Another 1 million out of 129.0\n",
      "Another 1 million out of 129.0\n",
      "Another 1 million out of 129.0\n",
      "Another 1 million out of 129.0\n",
      "Another 1 million out of 129.0\n",
      "Another 1 million out of 129.0\n",
      "Another 1 million out of 129.0\n",
      "Another 1 million out of 129.0\n",
      "Another 1 million out of 129.0\n",
      "Another 1 million out of 129.0\n",
      "Another 1 million out of 129.0\n",
      "Another 1 million out of 129.0\n",
      "Another 1 million out of 129.0\n",
      "Another 1 million out of 129.0\n",
      "Another 1 million out of 129.0\n",
      "Another 1 million out of 129.0\n",
      "Another 1 million out of 129.0\n",
      "Another 1 million out of 129.0\n",
      "Another 1 million out of 129.0\n",
      "Another 1 million out of 129.0\n",
      "Another 1 million out of 129.0\n",
      "Another 1 million out of 129.0\n",
      "Another 1 million out of 129.0\n",
      "Another 1 million out of 129.0\n",
      "Another 1 million out of 129.0\n",
      "Another 1 million out of 129.0\n",
      "Another 1 million out of 129.0\n",
      "Another 1 million out of 129.0\n",
      "Another 1 million out of 129.0\n",
      "Another 1 million out of 129.0\n",
      "Another 1 million out of 129.0\n",
      "Another 1 million out of 129.0\n",
      "Another 1 million out of 129.0\n",
      "Another 1 million out of 129.0\n",
      "Another 1 million out of 129.0\n",
      "Another 1 million out of 129.0\n",
      "Another 1 million out of 129.0\n",
      "Another 1 million out of 129.0\n",
      "Another 1 million out of 129.0\n",
      "Another 1 million out of 129.0\n",
      "Another 1 million out of 129.0\n",
      "Another 1 million out of 129.0\n",
      "Another 1 million out of 129.0\n",
      "Another 1 million out of 129.0\n",
      "Another 1 million out of 129.0\n",
      "Another 1 million out of 129.0\n",
      "Another 1 million out of 129.0\n",
      "Another 1 million out of 129.0\n",
      "Another 1 million out of 129.0\n",
      "Another 1 million out of 129.0\n",
      "Another 1 million out of 129.0\n",
      "Another 1 million out of 129.0\n",
      "Another 1 million out of 129.0\n",
      "Another 1 million out of 129.0\n",
      "Another 1 million out of 129.0\n",
      "Another 1 million out of 129.0\n",
      "Another 1 million out of 129.0\n",
      "Another 1 million out of 129.0\n",
      "Another 1 million out of 129.0\n",
      "Another 1 million out of 129.0\n",
      "Another 1 million out of 129.0\n",
      "Another 1 million out of 129.0\n",
      "Another 1 million out of 129.0\n",
      "Another 1 million out of 129.0\n",
      "Another 1 million out of 129.0\n",
      "Another 1 million out of 129.0\n",
      "Another 1 million out of 129.0\n",
      "Another 1 million out of 129.0\n",
      "Another 1 million out of 129.0\n",
      "Another 1 million out of 129.0\n",
      "Another 1 million out of 129.0\n",
      "Another 1 million out of 129.0\n",
      "Another 1 million out of 129.0\n",
      "Another 1 million out of 129.0\n",
      "Another 1 million out of 129.0\n",
      "Another 1 million out of 129.0\n",
      "Another 1 million out of 129.0\n",
      "Another 1 million out of 129.0\n",
      "Another 1 million out of 129.0\n",
      "Another 1 million out of 129.0\n",
      "Another 1 million out of 129.0\n",
      "Another 1 million out of 129.0\n",
      "Another 1 million out of 129.0\n",
      "Another 1 million out of 129.0\n",
      "Another 1 million out of 129.0\n",
      "Another 1 million out of 129.0\n",
      "Another 1 million out of 129.0\n",
      "Another 1 million out of 129.0\n",
      "Another 1 million out of 129.0\n",
      "Another 1 million out of 129.0\n",
      "Another 1 million out of 129.0\n",
      "Another 1 million out of 129.0\n",
      "Another 1 million out of 129.0\n",
      "Another 1 million out of 129.0\n",
      "Another 1 million out of 129.0\n",
      "Another 1 million out of 129.0\n",
      "Another 1 million out of 129.0\n",
      "Another 1 million out of 129.0\n",
      "Another 1 million out of 129.0\n",
      "Another 1 million out of 129.0\n",
      "Another 1 million out of 129.0\n",
      "Another 1 million out of 129.0\n",
      "Another 1 million out of 129.0\n"
     ]
    }
   ],
   "source": [
    "itm_add_elapsed('onpromotion', 'before_')"
   ]
  },
  {
   "cell_type": "code",
   "execution_count": 19,
   "metadata": {},
   "outputs": [
    {
     "data": {
      "text/plain": [
       "True"
      ]
     },
     "execution_count": 19,
     "metadata": {},
     "output_type": "execute_result"
    }
   ],
   "source": [
    "save_n_load_df(promo_df, 'promo_df5.pkl')"
   ]
  },
  {
   "cell_type": "code",
   "execution_count": null,
   "metadata": {
    "collapsed": true
   },
   "outputs": [],
   "source": [
    "# promo_df = load_df('promo_df_elapsed.pkl')"
   ]
  },
  {
   "cell_type": "code",
   "execution_count": 20,
   "metadata": {
    "collapsed": true
   },
   "outputs": [],
   "source": [
    "promo_df['after_onpromotion']=promo_df['after_onpromotion'].fillna(pd.Timedelta(0)).dt.days\n",
    "promo_df['before_onpromotion']=promo_df['before_onpromotion'].fillna(pd.Timedelta(0)).dt.days"
   ]
  },
  {
   "cell_type": "code",
   "execution_count": 145,
   "metadata": {
    "collapsed": true
   },
   "outputs": [
    {
     "data": {
      "text/plain": [
       "0     6215995\n",
       "1      234142\n",
       "2      201832\n",
       "3      192847\n",
       "4      188255\n",
       "5      183151\n",
       "6      179268\n",
       "8       48578\n",
       "10      46766\n",
       "9       46486\n",
       "11      46133\n",
       "12      45193\n",
       "13      43937\n",
       "7       43304\n",
       "15      34913\n",
       "14      34053\n",
       "16      23446\n",
       "17      23149\n",
       "18      23030\n",
       "19      22483\n",
       "20      22337\n",
       "21      20539\n",
       "22      20436\n",
       "24      19822\n",
       "25      19760\n",
       "23      19734\n",
       "26      19354\n",
       "27      19260\n",
       "28      18386\n",
       "29      18189\n",
       "       ...   \n",
       "34      14332\n",
       "35      13899\n",
       "36      13742\n",
       "37      11951\n",
       "38      11593\n",
       "39      11558\n",
       "40      11279\n",
       "41      11049\n",
       "42      10931\n",
       "43      10406\n",
       "44      10264\n",
       "45      10140\n",
       "47      10106\n",
       "46      10106\n",
       "48       9836\n",
       "49       9611\n",
       "50       9410\n",
       "51       6705\n",
       "52       6182\n",
       "53       5780\n",
       "54       4854\n",
       "55       4560\n",
       "56       4272\n",
       "57       4045\n",
       "58       2000\n",
       "59       1489\n",
       "60       1212\n",
       "61        995\n",
       "62        753\n",
       "63        142\n",
       "Name: after_onpromotion, Length: 64, dtype: int64"
      ]
     },
     "execution_count": 145,
     "metadata": {},
     "output_type": "execute_result"
    }
   ],
   "source": [
    "promo_df['after_onpromotion'].value_counts()"
   ]
  },
  {
   "cell_type": "code",
   "execution_count": 21,
   "metadata": {
    "collapsed": true
   },
   "outputs": [],
   "source": [
    "promo_df['after_onpromotion'] = promo_df['after_onpromotion'].astype(np.int16)\n",
    "promo_df['before_onpromotion'] = promo_df['before_onpromotion'].astype(np.int16)"
   ]
  },
  {
   "cell_type": "code",
   "execution_count": 22,
   "metadata": {},
   "outputs": [
    {
     "data": {
      "text/plain": [
       "True"
      ]
     },
     "execution_count": 22,
     "metadata": {},
     "output_type": "execute_result"
    }
   ],
   "source": [
    "save_n_load_df(promo_df, 'promo_df6.pkl')"
   ]
  },
  {
   "cell_type": "markdown",
   "metadata": {
    "collapsed": true
   },
   "source": [
    "#### Future - add rolling for onpromotion"
   ]
  },
  {
   "cell_type": "code",
   "execution_count": 23,
   "metadata": {
    "collapsed": true
   },
   "outputs": [],
   "source": [
    "promo_df.drop('onpromotion', 1, inplace=True)"
   ]
  },
  {
   "cell_type": "code",
   "execution_count": 24,
   "metadata": {
    "collapsed": true
   },
   "outputs": [],
   "source": [
    "joined=load_df('joined_elapsed_events.pkl')"
   ]
  },
  {
   "cell_type": "code",
   "execution_count": 25,
   "metadata": {
    "collapsed": true
   },
   "outputs": [],
   "source": [
    "joined=join_df(joined, promo_df, ['date', 'store_nbr', 'item_nbr'])"
   ]
  },
  {
   "cell_type": "code",
   "execution_count": 34,
   "metadata": {
    "collapsed": true
   },
   "outputs": [
    {
     "ename": "NameError",
     "evalue": "name 'promo_df' is not defined",
     "output_type": "error",
     "traceback": [
      "\u001b[0;31m---------------------------------------------------------------------------\u001b[0m",
      "\u001b[0;31mNameError\u001b[0m                                 Traceback (most recent call last)",
      "\u001b[0;32m<ipython-input-34-7e1e7c3aa6a9>\u001b[0m in \u001b[0;36m<module>\u001b[0;34m()\u001b[0m\n\u001b[0;32m----> 1\u001b[0;31m \u001b[0;32mdel\u001b[0m\u001b[0;34m(\u001b[0m\u001b[0mpromo_df\u001b[0m\u001b[0;34m)\u001b[0m\u001b[0;34m\u001b[0m\u001b[0m\n\u001b[0m",
      "\u001b[0;31mNameError\u001b[0m: name 'promo_df' is not defined"
     ]
    }
   ],
   "source": [
    "del(promo_df)"
   ]
  },
  {
   "cell_type": "code",
   "execution_count": 26,
   "metadata": {},
   "outputs": [
    {
     "data": {
      "text/plain": [
       "True"
      ]
     },
     "execution_count": 26,
     "metadata": {},
     "output_type": "execute_result"
    }
   ],
   "source": [
    "save_n_load_df(joined, 'joined_promo_bef_af.pkl')"
   ]
  },
  {
   "cell_type": "code",
   "execution_count": 28,
   "metadata": {
    "collapsed": true
   },
   "outputs": [],
   "source": [
    "joined['onpromotion']=joined['onpromotion'].astype(np.int8)"
   ]
  },
  {
   "cell_type": "code",
   "execution_count": 29,
   "metadata": {
    "collapsed": true
   },
   "outputs": [],
   "source": [
    "joined['oil_30_day_change']=joined['oil_30_day_change'].astype(np.float32)\n",
    "joined['transactions']=joined['transactions'].astype(np.float32)"
   ]
  },
  {
   "cell_type": "code",
   "execution_count": 30,
   "metadata": {},
   "outputs": [
    {
     "data": {
      "text/plain": [
       "True"
      ]
     },
     "execution_count": 30,
     "metadata": {},
     "output_type": "execute_result"
    }
   ],
   "source": [
    "save_n_load_df(joined, 'joined_promo_bef_af2.pkl')"
   ]
  },
  {
   "cell_type": "markdown",
   "metadata": {},
   "source": [
    "## Rolling transactions"
   ]
  },
  {
   "cell_type": "code",
   "execution_count": 92,
   "metadata": {
    "collapsed": true
   },
   "outputs": [],
   "source": [
    "joined=load_df('joined_promo_bef_af2.pkl')"
   ]
  },
  {
   "cell_type": "code",
   "execution_count": 93,
   "metadata": {
    "collapsed": true
   },
   "outputs": [],
   "source": [
    "trans = joined[['date', 'store_nbr','transactions']].drop_duplicates()\n",
    "trans.set_index('date', inplace=True)"
   ]
  },
  {
   "cell_type": "code",
   "execution_count": 94,
   "metadata": {
    "collapsed": true
   },
   "outputs": [],
   "source": [
    "roll_17=trans.sort_index().groupby('store_nbr').rolling(17,\n",
    "    min_periods=1).mean().rename(columns={'transactions': 'tr_roll_17'}).astype(np.int16)\n",
    "roll_90=trans.sort_index().groupby('store_nbr').rolling(90,\n",
    "    min_periods=1).mean().rename(columns={'transactions': 'tr_roll_90'}).astype(np.int16)\n",
    "roll_360=trans.sort_index().groupby('store_nbr').rolling(360,\n",
    "    min_periods=1).mean().rename(columns={'transactions': 'tr_roll_360'}).astype(np.int16)"
   ]
  },
  {
   "cell_type": "code",
   "execution_count": 95,
   "metadata": {
    "collapsed": true
   },
   "outputs": [],
   "source": [
    "for dfr in [roll_17, roll_90, roll_360]:\n",
    "    dfr.drop('store_nbr', 1, inplace=True)\n",
    "    dfr.reset_index(inplace=True) "
   ]
  },
  {
   "cell_type": "code",
   "execution_count": 96,
   "metadata": {
    "collapsed": true
   },
   "outputs": [],
   "source": [
    "tr_roll = roll_17.merge(roll_90, 'left', ['date', 'store_nbr']).merge(roll_360, 'left', ['date', 'store_nbr'])"
   ]
  },
  {
   "cell_type": "code",
   "execution_count": 97,
   "metadata": {
    "collapsed": true
   },
   "outputs": [],
   "source": [
    "joined = joined.merge(tr_roll, 'left', ['date', 'store_nbr'])"
   ]
  },
  {
   "cell_type": "code",
   "execution_count": 98,
   "metadata": {
    "collapsed": true
   },
   "outputs": [],
   "source": [
    "if save_n_load_df(joined, 'joined_roll_tran.pkl'): del(tr_roll)"
   ]
  },
  {
   "cell_type": "markdown",
   "metadata": {},
   "source": [
    "## Create features for NN"
   ]
  },
  {
   "cell_type": "markdown",
   "metadata": {},
   "source": [
    "#### Future - not sure how to deal with transactions. Perhaps predict both sales and transactions in model?"
   ]
  },
  {
   "cell_type": "code",
   "execution_count": 41,
   "metadata": {
    "collapsed": true
   },
   "outputs": [],
   "source": [
    "cls = joined.columns.tolist()"
   ]
  },
  {
   "cell_type": "markdown",
   "metadata": {},
   "source": [
    "['date',\n",
    " 'item_nbr',\n",
    " 'onpromotion',\n",
    " 'store_nbr',\n",
    " 'unit_sales',\n",
    " 'year',\n",
    " 'month',\n",
    " 'week',\n",
    " 'day',\n",
    " 'dayofweek',\n",
    " 'dcoilwtico',\n",
    " 'city',\n",
    " 'state',\n",
    " 'type',\n",
    " 'cluster',\n",
    " 'family',\n",
    " 'class',\n",
    " 'perishable',\n",
    " 'transactions',\n",
    " 'state_hol',\n",
    " 'city_hol',\n",
    " 'nat_hol',\n",
    " 'nat_event',\n",
    " 'oil_30_day_change',\n",
    " 'after_state_hol',\n",
    " 'after_city_hol',\n",
    " 'after_nat_hol',\n",
    " 'after_nat_event',\n",
    " 'before_state_hol',\n",
    " 'before_city_hol',\n",
    " 'before_nat_hol',\n",
    " 'before_nat_event',\n",
    " 'state_hol_bw',\n",
    " 'city_hol_bw',\n",
    " 'nat_hol_bw',\n",
    " 'nat_event_bw',\n",
    " 'state_hol_fw',\n",
    " 'city_hol_fw',\n",
    " 'nat_hol_fw',\n",
    " 'nat_event_fw',\n",
    " 'after_onpromotion',\n",
    " 'before_onpromotion']"
   ]
  },
  {
   "cell_type": "code",
   "execution_count": 36,
   "metadata": {
    "collapsed": true
   },
   "outputs": [],
   "source": [
    "cat_var_dict = {'item_nbr': 50,\n",
    "                'onpromotion': 3,\n",
    "                'store_nbr': 25, \n",
    "                'year': 3,\n",
    "                'month': 6,\n",
    "                'week': 6,\n",
    "                'day': 10,\n",
    "                'dayofweek': 10,\n",
    "                'city': 10,\n",
    "                'state': 10,\n",
    "                'type': 5,\n",
    "                'cluster': 10,\n",
    "                'family': 15,\n",
    "                'class': 20,\n",
    "                'perishable': 5,\n",
    "                'state_hol': 3,\n",
    "                'city_hol': 3,\n",
    "                'nat_hol': 3,\n",
    "                'nat_event': 3,\n",
    "                'state_hol_bw': 2,\n",
    "                'city_hol_bw': 2,\n",
    "                'nat_hol_bw': 2,\n",
    "                'nat_event_bw': 2,\n",
    "                'state_hol_fw': 2,\n",
    "                'city_hol_fw': 2,\n",
    "                'nat_hol_fw': 2,\n",
    "                'nat_event_fw': 2}"
   ]
  },
  {
   "cell_type": "code",
   "execution_count": 37,
   "metadata": {
    "collapsed": true
   },
   "outputs": [],
   "source": [
    "pickle.dump(cat_var_dict, open(slowdata + 'cat_var_dict.pkl', 'wb'))\n",
    "cat_var_dict = pickle.load(open(slowdata + 'cat_var_dict.pkl', 'rb'))"
   ]
  },
  {
   "cell_type": "code",
   "execution_count": 38,
   "metadata": {
    "collapsed": true
   },
   "outputs": [],
   "source": [
    "cat_vars = [o[0] for o in \n",
    "            sorted(cat_var_dict.items(), key=lambda x: x[1], reverse=True)]"
   ]
  },
  {
   "cell_type": "code",
   "execution_count": 99,
   "metadata": {
    "collapsed": true
   },
   "outputs": [],
   "source": [
    "contin_vars = ['dcoilwtico',\n",
    "               'oil_30_day_change',\n",
    "               'after_state_hol',\n",
    "               'after_city_hol',\n",
    "               'after_nat_hol',\n",
    "               'after_nat_event',\n",
    "               'before_state_hol',\n",
    "               'before_city_hol',\n",
    "               'before_nat_hol',\n",
    "               'before_nat_event',\n",
    "               'after_onpromotion',\n",
    "               'before_onpromotion',\n",
    "               'tr_roll_17',\n",
    "              'tr_roll_90',\n",
    "              'tr_roll_360']"
   ]
  },
  {
   "cell_type": "code",
   "execution_count": 42,
   "metadata": {},
   "outputs": [
    {
     "data": {
      "text/plain": [
       "True"
      ]
     },
     "execution_count": 42,
     "metadata": {},
     "output_type": "execute_result"
    }
   ],
   "source": [
    "#check, should miss date, unit_sales, transactions\n",
    "len(cls) ==  len(cat_var_dict) + len(contin_vars) + 3"
   ]
  },
  {
   "cell_type": "code",
   "execution_count": 100,
   "metadata": {
    "collapsed": true
   },
   "outputs": [],
   "source": [
    "cat_maps = [(o, LabelEncoder()) for o in cat_vars]\n",
    "contin_maps = [([o], StandardScaler()) for o in contin_vars]"
   ]
  },
  {
   "cell_type": "code",
   "execution_count": 45,
   "metadata": {},
   "outputs": [
    {
     "data": {
      "text/plain": [
       "27"
      ]
     },
     "execution_count": 45,
     "metadata": {},
     "output_type": "execute_result"
    }
   ],
   "source": [
    "cat_mapper = DataFrameMapper(cat_maps)m\n",
    "cat_cols = len(cat_map_fit.features); cat_cols"
   ]
  },
  {
   "cell_type": "code",
   "execution_count": 101,
   "metadata": {},
   "outputs": [
    {
     "name": "stderr",
     "output_type": "stream",
     "text": [
      "/home/kevin/anaconda2/envs/ai/lib/python3.6/site-packages/sklearn/utils/validation.py:444: DataConversionWarning: Data with input dtype int8 was converted to float64 by StandardScaler.\n",
      "  warnings.warn(msg, DataConversionWarning)\n",
      "/home/kevin/anaconda2/envs/ai/lib/python3.6/site-packages/sklearn/utils/validation.py:444: DataConversionWarning: Data with input dtype int16 was converted to float64 by StandardScaler.\n",
      "  warnings.warn(msg, DataConversionWarning)\n"
     ]
    },
    {
     "data": {
      "text/plain": [
       "15"
      ]
     },
     "execution_count": 101,
     "metadata": {},
     "output_type": "execute_result"
    }
   ],
   "source": [
    "contin_mapper = DataFrameMapper(contin_maps)\n",
    "contin_map_fit = contin_mapper.fit(joined)\n",
    "contin_cols = len(contin_map_fit.features); contin_cols"
   ]
  },
  {
   "cell_type": "code",
   "execution_count": 102,
   "metadata": {
    "collapsed": true
   },
   "outputs": [],
   "source": [
    "pickle.dump(contin_map_fit, open(slowdata + 'contin_maps.pickle', 'wb'))\n",
    "pickle.dump(cat_map_fit, open(slowdata + 'cat_maps.pickle', 'wb'))"
   ]
  },
  {
   "cell_type": "code",
   "execution_count": 48,
   "metadata": {
    "collapsed": true
   },
   "outputs": [],
   "source": [
    "contin_map_fit = pickle.load(open(slowdata + 'contin_maps.pickle', 'rb'))\n",
    "cat_map_fit = pickle.load(open(slowdata + 'cat_maps.pickle', 'rb'))"
   ]
  },
  {
   "cell_type": "markdown",
   "metadata": {},
   "source": [
    "## Split training/test"
   ]
  },
  {
   "cell_type": "code",
   "execution_count": 103,
   "metadata": {},
   "outputs": [
    {
     "data": {
      "text/plain": [
       "129427184"
      ]
     },
     "execution_count": 103,
     "metadata": {},
     "output_type": "execute_result"
    }
   ],
   "source": [
    "len(joined)"
   ]
  },
  {
   "cell_type": "code",
   "execution_count": 104,
   "metadata": {
    "collapsed": true
   },
   "outputs": [],
   "source": [
    "joined_train_df = joined[joined.unit_sales.notnull()]"
   ]
  },
  {
   "cell_type": "code",
   "execution_count": 105,
   "metadata": {},
   "outputs": [
    {
     "data": {
      "text/plain": [
       "126056720"
      ]
     },
     "execution_count": 105,
     "metadata": {},
     "output_type": "execute_result"
    }
   ],
   "source": [
    "len(joined_train_df)"
   ]
  },
  {
   "cell_type": "code",
   "execution_count": 106,
   "metadata": {
    "collapsed": true
   },
   "outputs": [],
   "source": [
    "joined_test_df = joined[joined.unit_sales.isnull()]"
   ]
  },
  {
   "cell_type": "code",
   "execution_count": 107,
   "metadata": {},
   "outputs": [
    {
     "data": {
      "text/plain": [
       "True"
      ]
     },
     "execution_count": 107,
     "metadata": {},
     "output_type": "execute_result"
    }
   ],
   "source": [
    "len(joined_train_df)+len(joined_test_df)==len(joined)"
   ]
  },
  {
   "cell_type": "code",
   "execution_count": 108,
   "metadata": {
    "collapsed": true
   },
   "outputs": [],
   "source": [
    "joined_train_df.to_pickle(slowdata+'joined_train_df.pkl')\n",
    "joined_test_df.to_pickle(slowdata+'joined_test_df.pkl')"
   ]
  },
  {
   "cell_type": "code",
   "execution_count": 55,
   "metadata": {
    "collapsed": true
   },
   "outputs": [],
   "source": [
    "joined_train_df = pd.read_pickle(slowdata+'joined_train_df.pkl')\n",
    "joined_test_df = pd.read_pickle(slowdata+'joined_test_df.pkl')"
   ]
  },
  {
   "cell_type": "markdown",
   "metadata": {},
   "source": [
    "## Load data code"
   ]
  },
  {
   "cell_type": "code",
   "execution_count": 2,
   "metadata": {
    "collapsed": true
   },
   "outputs": [],
   "source": [
    "slowdata = data_path + 'slowdisk/'\n",
    "slowdata = slowdata + 'alldata/'\n",
    "results_path = results_path+'alldata/'\n",
    "joined_train_df = pd.read_pickle(slowdata+'joined_train_df.pkl')\n",
    "joined_test_df = pd.read_pickle(slowdata+'joined_test_df.pkl')\n",
    "contin_map_fit = pickle.load(open(slowdata + 'contin_maps.pickle', 'rb'))\n",
    "cat_map_fit = pickle.load(open(slowdata + 'cat_maps.pickle', 'rb'))\n",
    "cat_var_dict = pickle.load(open(slowdata + 'cat_var_dict.pkl', 'rb'))"
   ]
  },
  {
   "cell_type": "markdown",
   "metadata": {},
   "source": [
    "## Split train/valid"
   ]
  },
  {
   "cell_type": "code",
   "execution_count": 3,
   "metadata": {},
   "outputs": [
    {
     "data": {
      "text/plain": [
       "True"
      ]
     },
     "execution_count": 3,
     "metadata": {},
     "output_type": "execute_result"
    }
   ],
   "source": [
    "train_ratio = 0.95\n",
    "train_size = int(train_ratio*len(joined_train_df))\n",
    "joined_train = joined_train_df[:train_size]\n",
    "joined_valid = joined_train_df[train_size:]\n",
    "len(joined_train)+len(joined_valid)==len(joined_train_df)"
   ]
  },
  {
   "cell_type": "markdown",
   "metadata": {},
   "source": [
    "## Sample Weights"
   ]
  },
  {
   "cell_type": "code",
   "execution_count": 4,
   "metadata": {
    "collapsed": true
   },
   "outputs": [],
   "source": [
    "#from rules, perishable weighted as 1.25\n",
    "sample_weight = np.array([1 if not p else 1.25 for p in joined_train.perishable])"
   ]
  },
  {
   "cell_type": "code",
   "execution_count": 8,
   "metadata": {
    "collapsed": true
   },
   "outputs": [],
   "source": [
    "pickle.dump(sample_weight, open(slowdata + 'sample_weight.pkl', 'wb'))"
   ]
  },
  {
   "cell_type": "markdown",
   "metadata": {},
   "source": [
    "## Preprocess"
   ]
  },
  {
   "cell_type": "code",
   "execution_count": 15,
   "metadata": {
    "collapsed": true
   },
   "outputs": [],
   "source": [
    "def cat_preproc(dat):\n",
    "    return cat_map_fit.transform(dat).astype(np.int16)\n",
    "def contin_preproc(dat):\n",
    "    return contin_map_fit.transform(dat).astype(np.float32)"
   ]
  },
  {
   "cell_type": "code",
   "execution_count": 6,
   "metadata": {
    "collapsed": true
   },
   "outputs": [],
   "source": [
    "cat_map_train = cat_preproc(joined_train)\n",
    "cat_map_valid = cat_preproc(joined_valid)\n",
    "cat_map_test = cat_preproc(joined_test_df)"
   ]
  },
  {
   "cell_type": "code",
   "execution_count": 22,
   "metadata": {
    "collapsed": true
   },
   "outputs": [],
   "source": [
    "contin_map_train = contin_preproc(joined_train)\n",
    "contin_map_valid = contin_preproc(joined_valid)\n",
    "contin_map_test = contin_preproc(joined_test_df)\n",
    "contin_cols=contin_map_train.shape[1]"
   ]
  },
  {
   "cell_type": "code",
   "execution_count": 23,
   "metadata": {
    "collapsed": true
   },
   "outputs": [],
   "source": [
    "pickle.dump(cat_map_train, open(slowdata + 'cat_map_train.pkl', 'wb'), protocol=4)\n",
    "pickle.dump(cat_map_valid, open(slowdata + 'cat_map_valid.pkl', 'wb'))\n",
    "pickle.dump(contin_map_train, open(slowdata + 'contin_map_train.pkl', 'wb'), protocol=4)\n",
    "pickle.dump(contin_map_valid, open(slowdata + 'contin_map_valid.pkl', 'wb'))\n",
    "pickle.dump(cat_map_test, open(slowdata + 'cat_map_test.pkl', 'wb'))\n",
    "pickle.dump(contin_map_test, open(slowdata + 'contin_map_test.pkl', 'wb'))\n",
    "pickle.dump(contin_cols, open(slowdata + 'contin_cols.pkl', 'wb'))"
   ]
  },
  {
   "cell_type": "code",
   "execution_count": 16,
   "metadata": {
    "collapsed": true
   },
   "outputs": [],
   "source": [
    "save_df(joined_train, 'join_train_all.pkl')\n",
    "save_df(joined_valid, 'joined_valid_all.pkl')"
   ]
  },
  {
   "cell_type": "markdown",
   "metadata": {},
   "source": [
    "## Load training data"
   ]
  },
  {
   "cell_type": "code",
   "execution_count": 19,
   "metadata": {
    "collapsed": true
   },
   "outputs": [],
   "source": [
    "cat_map_train = pickle.load(open(slowdata + 'cat_map_train.pkl', 'rb'))\n",
    "cat_map_valid = pickle.load(open(slowdata + 'cat_map_valid.pkl', 'rb'))\n",
    "contin_map_train = pickle.load(open(slowdata + 'contin_map_train.pkl', 'rb'))\n",
    "contin_map_valid = pickle.load(open(slowdata + 'contin_map_valid.pkl', 'rb'))\n",
    "sample_weight = pickle.load(open(slowdata + 'sample_weight.pkl', 'rb'))\n",
    "cat_map_fit = pickle.load(open(slowdata + 'cat_maps.pickle', 'rb'))\n",
    "contin_map_fit = pickle.load(open(slowdata + 'contin_maps.pickle', 'rb'))\n",
    "cat_var_dict = pickle.load(open(slowdata + 'cat_var_dict.pkl', 'rb'))\n",
    "cat_map_test = pickle.load(open(slowdata + 'cat_map_test.pkl', 'rb'))\n",
    "contin_map_test = pickle.load(open(slowdata + 'contin_map_test.pkl', 'rb'))\n",
    "contin_cols = pickle.load(open(slowdata + 'contin_cols.pkl', 'rb'))\n",
    "joined_train = load_df('join_train_all.pkl')\n",
    "joined_valid = load_df('joined_valid_all.pkl')"
   ]
  },
  {
   "cell_type": "markdown",
   "metadata": {},
   "source": [
    "## Create model data"
   ]
  },
  {
   "cell_type": "code",
   "execution_count": 20,
   "metadata": {
    "collapsed": true
   },
   "outputs": [],
   "source": [
    "map_train = split_cols(cat_map_train) + [contin_map_train]\n",
    "map_valid = split_cols(cat_map_valid) + [contin_map_valid]\n",
    "map_test = split_cols(cat_map_test) + [contin_map_test]"
   ]
  },
  {
   "cell_type": "code",
   "execution_count": 24,
   "metadata": {
    "collapsed": true
   },
   "outputs": [],
   "source": [
    "meany_train, stdevy_train, y_train = normy(joined_train.as_matrix(columns = ['unit_sales']))\n",
    "meany_valid, stdevy_valid, y_valid = normy(joined_valid.as_matrix(columns = ['unit_sales']))"
   ]
  },
  {
   "cell_type": "markdown",
   "metadata": {},
   "source": [
    "#remove normalization\n",
    "y_train = joined_train.as_matrix(columns = ['unit_sales'])\n",
    "y_valid = joined_valid.as_matrix(columns = ['unit_sales'])"
   ]
  },
  {
   "cell_type": "markdown",
   "metadata": {},
   "source": [
    "## Save model data"
   ]
  },
  {
   "cell_type": "code",
   "execution_count": 26,
   "metadata": {
    "collapsed": true
   },
   "outputs": [],
   "source": [
    "pickle.dump(map_train, open(slowdata + 'map_train.pkl', 'wb'), protocol=4)\n",
    "pickle.dump(map_valid, open(slowdata + 'map_valid.pkl', 'wb'))\n",
    "pickle.dump(map_test, open(slowdata + 'map_test.pkl', 'wb'))\n",
    "\n",
    "pickle.dump(meany_train, open(slowdata + 'meany_train.pkl', 'wb'))\n",
    "pickle.dump(stdevy_train, open(slowdata + 'stdevy_train.pkl', 'wb'))\n",
    "pickle.dump(y_train, open(slowdata + 'y_train.pkl', 'wb'))\n",
    "pickle.dump(meany_valid, open(slowdata + 'meany_valid.pkl', 'wb'))\n",
    "pickle.dump(stdevy_valid, open(slowdata + 'stdevy_valid.pkl', 'wb'))\n",
    "pickle.dump(y_valid, open(slowdata + 'y_valid.pkl', 'wb'))"
   ]
  },
  {
   "cell_type": "markdown",
   "metadata": {},
   "source": [
    "## Load model data"
   ]
  },
  {
   "cell_type": "code",
   "execution_count": 28,
   "metadata": {
    "collapsed": true
   },
   "outputs": [],
   "source": [
    "cat_var_dict = pickle.load(open(slowdata + 'cat_var_dict.pkl', 'rb'))\n",
    "contin_cols = pickle.load(open(slowdata + 'contin_cols.pkl', 'rb'))\n",
    "cat_map_fit = pickle.load(open(slowdata + 'cat_maps.pickle', 'rb'))\n",
    "\n",
    "map_train = pickle.load(open(slowdata + 'map_train.pkl', 'rb'))\n",
    "map_valid = pickle.load(open(slowdata + 'map_valid.pkl', 'rb'))\n",
    "map_test = pickle.load(open(slowdata + 'map_test.pkl', 'rb'))\n",
    "\n",
    "sample_weight = pickle.load(open(slowdata + 'sample_weight.pkl', 'rb'))\n",
    "\n",
    "meany_train = pickle.load(open(slowdata + 'meany_train.pkl', 'rb'))\n",
    "stdevy_train = pickle.load(open(slowdata + 'stdevy_train.pkl', 'rb'))\n",
    "y_train = pickle.load(open(slowdata + 'y_train.pkl', 'rb'))\n",
    "meany_valid = pickle.load(open(slowdata + 'meany_valid.pkl', 'rb'))\n",
    "stdevy_valid = pickle.load(open(slowdata + 'stdevy_valid.pkl', 'rb'))\n",
    "y_valid = pickle.load(open(slowdata + 'y_valid.pkl', 'rb'))"
   ]
  },
  {
   "cell_type": "code",
   "execution_count": 29,
   "metadata": {
    "collapsed": true
   },
   "outputs": [],
   "source": [
    "rec_mem()"
   ]
  },
  {
   "cell_type": "code",
   "execution_count": null,
   "metadata": {
    "collapsed": true
   },
   "outputs": [],
   "source": []
  },
  {
   "cell_type": "code",
   "execution_count": null,
   "metadata": {
    "collapsed": true
   },
   "outputs": [],
   "source": []
  },
  {
   "cell_type": "code",
   "execution_count": null,
   "metadata": {
    "collapsed": true
   },
   "outputs": [],
   "source": []
  }
 ],
 "metadata": {
  "kernelspec": {
   "display_name": "Python 3",
   "language": "python",
   "name": "python3"
  },
  "language_info": {
   "codemirror_mode": {
    "name": "ipython",
    "version": 3
   },
   "file_extension": ".py",
   "mimetype": "text/x-python",
   "name": "python",
   "nbconvert_exporter": "python",
   "pygments_lexer": "ipython3",
   "version": "3.6.2"
  }
 },
 "nbformat": 4,
 "nbformat_minor": 2
}
